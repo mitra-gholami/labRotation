{
 "cells": [
  {
   "cell_type": "code",
   "execution_count": 1,
   "metadata": {
    "ExecuteTime": {
     "end_time": "2024-06-04T08:12:41.207036Z",
     "start_time": "2024-06-04T08:12:39.507879Z"
    }
   },
   "outputs": [],
   "source": [
    "import pandas as pd\n",
    "from grid_search_utils import get_grid_search_results\n",
    "import itertools"
   ]
  },
  {
   "cell_type": "code",
   "execution_count": 2,
   "metadata": {
    "ExecuteTime": {
     "end_time": "2024-06-04T08:12:41.312172Z",
     "start_time": "2024-06-04T08:12:41.208765Z"
    }
   },
   "outputs": [
    {
     "name": "stdout",
     "output_type": "stream",
     "text": [
      "    attributes  values  context_unaware  game_size  vocab_size_factor  \\\n",
      "0          3.0     4.0              0.0       10.0                3.0   \n",
      "1          3.0     4.0              1.0       10.0                3.0   \n",
      "2          3.0     4.0              1.0       10.0                3.0   \n",
      "3          3.0     4.0              1.0       10.0                3.0   \n",
      "4          3.0     4.0              1.0       10.0                3.0   \n",
      "..         ...     ...              ...        ...                ...   \n",
      "85         3.0     4.0              1.0       10.0                3.0   \n",
      "86         3.0    16.0              0.0       10.0                3.0   \n",
      "87         3.0    16.0              0.0       10.0                3.0   \n",
      "88         3.0     4.0              1.0       10.0                3.0   \n",
      "89         3.0     4.0              1.0       10.0                3.0   \n",
      "\n",
      "    n_epochs  batch_size  learning_rate  hidden_size  temp_update  \\\n",
      "0       60.0        32.0          0.001        128.0         0.99   \n",
      "1       60.0        32.0          0.001        128.0         0.99   \n",
      "2       60.0        32.0          0.001        128.0         0.99   \n",
      "3       60.0        32.0          0.001        128.0         0.99   \n",
      "4       60.0        32.0          0.001        128.0         0.99   \n",
      "..       ...         ...            ...          ...          ...   \n",
      "85      60.0        32.0          0.001        128.0         0.99   \n",
      "86      60.0        32.0          0.001        128.0         0.99   \n",
      "87      60.0        32.0          0.001        128.0         0.99   \n",
      "88      60.0        32.0          0.001        128.0         0.99   \n",
      "89      60.0        32.0          0.001        128.0         0.99   \n",
      "\n",
      "    temperature  length_cost  max_mess_len  train_loss  train_accuracy  \\\n",
      "0           2.0       0.0005          30.0    0.022671        0.996470   \n",
      "1           2.0       0.0005          20.0    0.008114        0.999837   \n",
      "2           2.0       0.0005          30.0    0.016607        0.998086   \n",
      "3           2.0       0.0050           3.0    0.053479        0.990896   \n",
      "4           2.0       0.0050          10.0    0.074558        0.984737   \n",
      "..          ...          ...           ...         ...             ...   \n",
      "85          2.0       0.0010          30.0    0.015332        0.999011   \n",
      "86          2.0       0.0050           3.0    0.674379        0.559961   \n",
      "87          2.0       0.0050           5.0    0.680849        0.554324   \n",
      "88          2.0       0.0005           3.0    0.030643        0.992825   \n",
      "89          2.0       0.0050          30.0    0.056530        0.989905   \n",
      "\n",
      "    train_length  test_loss  test_accuracy  test_length  \n",
      "0      12.168739   0.049808       0.986192    11.590278  \n",
      "1       8.328791   0.019435       0.996387     8.480903  \n",
      "2      10.437392   0.046938       0.990652     9.687500  \n",
      "3       3.999999   0.065863       0.987760     4.000000  \n",
      "4       4.189429   0.106535       0.971699     4.196180  \n",
      "..           ...        ...            ...          ...  \n",
      "85      7.736922   0.025076       0.995706     7.552083  \n",
      "86      1.000000   0.680410       0.540535     1.000000  \n",
      "87      1.000000   0.684995       0.542981     1.000000  \n",
      "88      4.000000   0.065559       0.983160     4.000000  \n",
      "89      4.040443   0.074185       0.984549     3.918403  \n",
      "\n",
      "[90 rows x 19 columns]\n"
     ]
    }
   ],
   "source": [
    "# give directory name\n",
    "directory = \"02-04-2024\"\n",
    "get_grid_search_results(directory, n_lines=128, header_in_line=1)"
   ]
  },
  {
   "cell_type": "code",
   "execution_count": 3,
   "metadata": {
    "ExecuteTime": {
     "end_time": "2024-06-04T08:12:41.324216Z",
     "start_time": "2024-06-04T08:12:41.314245Z"
    }
   },
   "outputs": [],
   "source": [
    "data = pd.read_csv(\"results_\" + directory + \".csv\")"
   ]
  },
  {
   "attachments": {},
   "cell_type": "markdown",
   "metadata": {},
   "source": [
    "## New grid search results"
   ]
  },
  {
   "cell_type": "code",
   "execution_count": 4,
   "metadata": {
    "ExecuteTime": {
     "end_time": "2024-06-04T08:12:41.332971Z",
     "start_time": "2024-06-04T08:12:41.326220Z"
    }
   },
   "outputs": [
    {
     "name": "stdout",
     "output_type": "stream",
     "text": [
      "attributes [3 5]\n",
      "values [ 4 16]\n",
      "context_unaware [0. 1.]\n",
      "game_size [10]\n",
      "vocab_size_factor [3.]\n",
      "n_epochs [60.]\n",
      "batch_size [32]\n",
      "learning_rate [0.001]\n",
      "hidden_size [128]\n",
      "temp_update [0.99]\n",
      "temperature [2.]\n",
      "length_cost [0.0005 0.005  0.001 ]\n",
      "max_mess_len [30. 20.  3. 10.  5.]\n"
     ]
    }
   ],
   "source": [
    "# parameters that were tested\n",
    "for col in data.columns[:-6]:\n",
    "    print(col, data[col].unique())    "
   ]
  },
  {
   "cell_type": "code",
   "execution_count": 5,
   "metadata": {
    "ExecuteTime": {
     "end_time": "2024-06-04T08:12:41.840819Z",
     "start_time": "2024-06-04T08:12:41.833212Z"
    }
   },
   "outputs": [],
   "source": [
    "data = data[((data['attributes'] == 3) & (data['values'] == 4))\n",
    "            | ((data['attributes'] == 3) & (data['values'] == 16))\n",
    "            | ((data['attributes'] == 5) & (data['values'] == 4))]"
   ]
  },
  {
   "cell_type": "code",
   "execution_count": 6,
   "metadata": {
    "ExecuteTime": {
     "end_time": "2024-06-04T08:12:42.726117Z",
     "start_time": "2024-06-04T08:12:42.703239Z"
    }
   },
   "outputs": [
    {
     "name": "stdout",
     "output_type": "stream",
     "text": [
      "dataset: 3 4 context_unaware: 0\n",
      "attributes             3.000000\n",
      "values                 4.000000\n",
      "context_unaware        0.000000\n",
      "game_size             10.000000\n",
      "vocab_size_factor      3.000000\n",
      "n_epochs              60.000000\n",
      "batch_size            32.000000\n",
      "learning_rate          0.001000\n",
      "hidden_size          128.000000\n",
      "temp_update            0.990000\n",
      "temperature            2.000000\n",
      "length_cost            0.000500\n",
      "max_mess_len          10.000000\n",
      "train_loss             0.011059\n",
      "train_accuracy         0.999994\n",
      "train_length          10.998214\n",
      "test_loss              0.023236\n",
      "test_accuracy          0.996354\n",
      "test_length           11.000000\n",
      "Name: 6, dtype: float64\n",
      "attributes             3.000000\n",
      "values                 4.000000\n",
      "context_unaware        0.000000\n",
      "game_size             10.000000\n",
      "vocab_size_factor      3.000000\n",
      "n_epochs              60.000000\n",
      "batch_size            32.000000\n",
      "learning_rate          0.001000\n",
      "hidden_size          128.000000\n",
      "temp_update            0.990000\n",
      "temperature            2.000000\n",
      "length_cost            0.000500\n",
      "max_mess_len           5.000000\n",
      "train_loss             0.010733\n",
      "train_accuracy         0.999332\n",
      "train_length           5.999980\n",
      "test_loss              0.028957\n",
      "test_accuracy          0.994358\n",
      "test_length            6.000000\n",
      "Name: 8, dtype: float64\n",
      "dataset: 3 4 context_unaware: 1\n",
      "attributes             3.000000\n",
      "values                 4.000000\n",
      "context_unaware        1.000000\n",
      "game_size             10.000000\n",
      "vocab_size_factor      3.000000\n",
      "n_epochs              60.000000\n",
      "batch_size            32.000000\n",
      "learning_rate          0.001000\n",
      "hidden_size          128.000000\n",
      "temp_update            0.990000\n",
      "temperature            2.000000\n",
      "length_cost            0.000500\n",
      "max_mess_len          20.000000\n",
      "train_loss             0.008114\n",
      "train_accuracy         0.999837\n",
      "train_length           8.328791\n",
      "test_loss              0.019435\n",
      "test_accuracy          0.996387\n",
      "test_length            8.480903\n",
      "Name: 1, dtype: float64\n",
      "attributes             3.000000\n",
      "values                 4.000000\n",
      "context_unaware        1.000000\n",
      "game_size             10.000000\n",
      "vocab_size_factor      3.000000\n",
      "n_epochs              60.000000\n",
      "batch_size            32.000000\n",
      "learning_rate          0.001000\n",
      "hidden_size          128.000000\n",
      "temp_update            0.990000\n",
      "temperature            2.000000\n",
      "length_cost            0.000500\n",
      "max_mess_len          20.000000\n",
      "train_loss             0.008114\n",
      "train_accuracy         0.999837\n",
      "train_length           8.328791\n",
      "test_loss              0.019435\n",
      "test_accuracy          0.996387\n",
      "test_length            8.480903\n",
      "Name: 1, dtype: float64\n",
      "dataset: 3 16 context_unaware: 0\n",
      "attributes             3.000000\n",
      "values                16.000000\n",
      "context_unaware        0.000000\n",
      "game_size             10.000000\n",
      "vocab_size_factor      3.000000\n",
      "n_epochs              60.000000\n",
      "batch_size            32.000000\n",
      "learning_rate          0.001000\n",
      "hidden_size          128.000000\n",
      "temp_update            0.990000\n",
      "temperature            2.000000\n",
      "length_cost            0.000500\n",
      "max_mess_len          30.000000\n",
      "train_loss             0.013536\n",
      "train_accuracy         0.997974\n",
      "train_length          10.092088\n",
      "test_loss              0.012622\n",
      "test_accuracy          0.998612\n",
      "test_length           10.323061\n",
      "Name: 45, dtype: float64\n",
      "attributes             3.000000\n",
      "values                16.000000\n",
      "context_unaware        0.000000\n",
      "game_size             10.000000\n",
      "vocab_size_factor      3.000000\n",
      "n_epochs              60.000000\n",
      "batch_size            32.000000\n",
      "learning_rate          0.001000\n",
      "hidden_size          128.000000\n",
      "temp_update            0.990000\n",
      "temperature            2.000000\n",
      "length_cost            0.000500\n",
      "max_mess_len          30.000000\n",
      "train_loss             0.013536\n",
      "train_accuracy         0.997974\n",
      "train_length          10.092088\n",
      "test_loss              0.012622\n",
      "test_accuracy          0.998612\n",
      "test_length           10.323061\n",
      "Name: 45, dtype: float64\n",
      "dataset: 3 16 context_unaware: 1\n",
      "attributes             3.000000\n",
      "values                16.000000\n",
      "context_unaware        1.000000\n",
      "game_size             10.000000\n",
      "vocab_size_factor      3.000000\n",
      "n_epochs              60.000000\n",
      "batch_size            32.000000\n",
      "learning_rate          0.001000\n",
      "hidden_size          128.000000\n",
      "temp_update            0.990000\n",
      "temperature            2.000000\n",
      "length_cost            0.001000\n",
      "max_mess_len          20.000000\n",
      "train_loss             0.028414\n",
      "train_accuracy         0.995471\n",
      "train_length           7.600504\n",
      "test_loss              0.033122\n",
      "test_accuracy          0.994284\n",
      "test_length            7.556962\n",
      "Name: 49, dtype: float64\n",
      "attributes             3.000000\n",
      "values                16.000000\n",
      "context_unaware        1.000000\n",
      "game_size             10.000000\n",
      "vocab_size_factor      3.000000\n",
      "n_epochs              60.000000\n",
      "batch_size            32.000000\n",
      "learning_rate          0.001000\n",
      "hidden_size          128.000000\n",
      "temp_update            0.990000\n",
      "temperature            2.000000\n",
      "length_cost            0.000500\n",
      "max_mess_len           5.000000\n",
      "train_loss             0.023018\n",
      "train_accuracy         0.995673\n",
      "train_length           6.000000\n",
      "test_loss              0.030603\n",
      "test_accuracy          0.994143\n",
      "test_length            6.000000\n",
      "Name: 37, dtype: float64\n",
      "dataset: 5 4 context_unaware: 0\n",
      "attributes             5.000000\n",
      "values                 4.000000\n",
      "context_unaware        0.000000\n",
      "game_size             10.000000\n",
      "vocab_size_factor      3.000000\n",
      "n_epochs              60.000000\n",
      "batch_size            32.000000\n",
      "learning_rate          0.001000\n",
      "hidden_size          128.000000\n",
      "temp_update            0.990000\n",
      "temperature            2.000000\n",
      "length_cost            0.001000\n",
      "max_mess_len          10.000000\n",
      "train_loss             0.017030\n",
      "train_accuracy         0.998687\n",
      "train_length          11.000000\n",
      "test_loss              0.017794\n",
      "test_accuracy          0.998364\n",
      "test_length           11.000000\n",
      "Name: 77, dtype: float64\n",
      "attributes             5.000000\n",
      "values                 4.000000\n",
      "context_unaware        0.000000\n",
      "game_size             10.000000\n",
      "vocab_size_factor      3.000000\n",
      "n_epochs              60.000000\n",
      "batch_size            32.000000\n",
      "learning_rate          0.001000\n",
      "hidden_size          128.000000\n",
      "temp_update            0.990000\n",
      "temperature            2.000000\n",
      "length_cost            0.000500\n",
      "max_mess_len           5.000000\n",
      "train_loss             0.011250\n",
      "train_accuracy         0.998193\n",
      "train_length           6.000000\n",
      "test_loss              0.027999\n",
      "test_accuracy          0.995026\n",
      "test_length            6.000000\n",
      "Name: 70, dtype: float64\n",
      "dataset: 5 4 context_unaware: 1\n",
      "attributes             5.000000\n",
      "values                 4.000000\n",
      "context_unaware        1.000000\n",
      "game_size             10.000000\n",
      "vocab_size_factor      3.000000\n",
      "n_epochs              60.000000\n",
      "batch_size            32.000000\n",
      "learning_rate          0.001000\n",
      "hidden_size          128.000000\n",
      "temp_update            0.990000\n",
      "temperature            2.000000\n",
      "length_cost            0.001000\n",
      "max_mess_len          30.000000\n",
      "train_loss             0.013802\n",
      "train_accuracy         0.998950\n",
      "train_length           8.906387\n",
      "test_loss              0.015010\n",
      "test_accuracy          0.998905\n",
      "test_length            8.758203\n",
      "Name: 88, dtype: float64\n",
      "attributes             5.000000\n",
      "values                 4.000000\n",
      "context_unaware        1.000000\n",
      "game_size             10.000000\n",
      "vocab_size_factor      3.000000\n",
      "n_epochs              60.000000\n",
      "batch_size            32.000000\n",
      "learning_rate          0.001000\n",
      "hidden_size          128.000000\n",
      "temp_update            0.990000\n",
      "temperature            2.000000\n",
      "length_cost            0.001000\n",
      "max_mess_len           5.000000\n",
      "train_loss             0.011731\n",
      "train_accuracy         0.998805\n",
      "train_length           6.000000\n",
      "test_loss              0.020872\n",
      "test_accuracy          0.996508\n",
      "test_length            6.000000\n",
      "Name: 78, dtype: float64\n"
     ]
    }
   ],
   "source": [
    "attributes = [3, 5]\n",
    "values = [4, 16]\n",
    "datasets = list(itertools.product(attributes, values))[:3]\n",
    "index = data.index\n",
    "for (attributes, values) in datasets:\n",
    "    for context_unaware in range(2):\n",
    "        print(\"dataset:\", attributes, values, \"context_unaware:\", context_unaware)\n",
    "        per_dataset = data[(data[\"attributes\"] == attributes) & (data[\"values\"] == values) & (data['context_unaware'] == context_unaware)]\n",
    "        max_test_acc = per_dataset['test_accuracy'].idxmax()\n",
    "        print(per_dataset.loc[index[max_test_acc]])\n",
    "        min_train_loss = per_dataset['train_loss'].idxmin()\n",
    "        print(per_dataset.loc[index[min_train_loss]])"
   ]
  },
  {
   "attachments": {},
   "cell_type": "markdown",
   "metadata": {},
   "source": [
    "### Length cost parameter & maximum message length\n",
    "Best minimum losses are usually found with low cost parameters (where the cost doesn't influence the training sufficiently). So, we choose costs where it is evident from the message length observed in the last epoch (60) that the cost actually had an influence.\n",
    "This is the case for \n",
    "- 0.005 for D(3,4)\n",
    "- 0.001 for D(3,16)\n",
    "- 0.005 for D(5,4)"
   ]
  },
  {
   "cell_type": "code",
   "execution_count": 7,
   "metadata": {
    "ExecuteTime": {
     "end_time": "2024-06-04T08:12:44.847682Z",
     "start_time": "2024-06-04T08:12:44.452285Z"
    }
   },
   "outputs": [
    {
     "name": "stderr",
     "output_type": "stream",
     "text": [
      "/var/folders/k6/03rlh8jd6nqbws0_xg9jh20w0000gq/T/ipykernel_8135/2752776918.py:1: FutureWarning: Indexing with multiple keys (implicitly converted to a tuple of keys) will be deprecated, use a list instead.\n",
      "  lc_sumstat = data.groupby(['attributes', 'values', 'context_unaware', 'length_cost', 'max_mess_len'])['test_accuracy', 'test_loss', 'test_length'].describe()\n"
     ]
    },
    {
     "data": {
      "text/plain": "                                                           test_accuracy  \\\n                                                                    mean   \nattributes values context_unaware length_cost max_mess_len                 \n3          4      0.0             0.0005      3.0               0.989227   \n                                              5.0               0.994358   \n                                              10.0              0.996354   \n                                              20.0              0.986211   \n                                              30.0              0.986192   \n...                                                                  ...   \n5          4      1.0             0.0050      3.0               0.896727   \n                                              5.0               0.941478   \n                                              10.0              0.995088   \n                                              20.0              0.968116   \n                                              30.0              0.916183   \n\n                                                           test_loss  \\\n                                                                mean   \nattributes values context_unaware length_cost max_mess_len             \n3          4      0.0             0.0005      3.0           0.041587   \n                                              5.0           0.028957   \n                                              10.0          0.023236   \n                                              20.0          0.051317   \n                                              30.0          0.049808   \n...                                                              ...   \n5          4      1.0             0.0050      3.0           0.325546   \n                                              5.0           0.204935   \n                                              10.0          0.054159   \n                                              20.0          0.142014   \n                                              30.0          0.299898   \n\n                                                           test_length  \n                                                                  mean  \nattributes values context_unaware length_cost max_mess_len              \n3          4      0.0             0.0005      3.0             4.000000  \n                                              5.0             6.000000  \n                                              10.0           11.000000  \n                                              20.0            8.805555  \n                                              30.0           11.590278  \n...                                                                ...  \n5          4      1.0             0.0050      3.0             3.711757  \n                                              5.0             3.679388  \n                                              10.0            5.826122  \n                                              20.0            4.623525  \n                                              30.0            4.255035  \n\n[90 rows x 3 columns]",
      "text/html": "<div>\n<style scoped>\n    .dataframe tbody tr th:only-of-type {\n        vertical-align: middle;\n    }\n\n    .dataframe tbody tr th {\n        vertical-align: top;\n    }\n\n    .dataframe thead tr th {\n        text-align: left;\n    }\n\n    .dataframe thead tr:last-of-type th {\n        text-align: right;\n    }\n</style>\n<table border=\"1\" class=\"dataframe\">\n  <thead>\n    <tr>\n      <th></th>\n      <th></th>\n      <th></th>\n      <th></th>\n      <th></th>\n      <th>test_accuracy</th>\n      <th>test_loss</th>\n      <th>test_length</th>\n    </tr>\n    <tr>\n      <th></th>\n      <th></th>\n      <th></th>\n      <th></th>\n      <th></th>\n      <th>mean</th>\n      <th>mean</th>\n      <th>mean</th>\n    </tr>\n    <tr>\n      <th>attributes</th>\n      <th>values</th>\n      <th>context_unaware</th>\n      <th>length_cost</th>\n      <th>max_mess_len</th>\n      <th></th>\n      <th></th>\n      <th></th>\n    </tr>\n  </thead>\n  <tbody>\n    <tr>\n      <th rowspan=\"5\" valign=\"top\">3</th>\n      <th rowspan=\"5\" valign=\"top\">4</th>\n      <th rowspan=\"5\" valign=\"top\">0.0</th>\n      <th rowspan=\"5\" valign=\"top\">0.0005</th>\n      <th>3.0</th>\n      <td>0.989227</td>\n      <td>0.041587</td>\n      <td>4.000000</td>\n    </tr>\n    <tr>\n      <th>5.0</th>\n      <td>0.994358</td>\n      <td>0.028957</td>\n      <td>6.000000</td>\n    </tr>\n    <tr>\n      <th>10.0</th>\n      <td>0.996354</td>\n      <td>0.023236</td>\n      <td>11.000000</td>\n    </tr>\n    <tr>\n      <th>20.0</th>\n      <td>0.986211</td>\n      <td>0.051317</td>\n      <td>8.805555</td>\n    </tr>\n    <tr>\n      <th>30.0</th>\n      <td>0.986192</td>\n      <td>0.049808</td>\n      <td>11.590278</td>\n    </tr>\n    <tr>\n      <th>...</th>\n      <th>...</th>\n      <th>...</th>\n      <th>...</th>\n      <th>...</th>\n      <td>...</td>\n      <td>...</td>\n      <td>...</td>\n    </tr>\n    <tr>\n      <th rowspan=\"5\" valign=\"top\">5</th>\n      <th rowspan=\"5\" valign=\"top\">4</th>\n      <th rowspan=\"5\" valign=\"top\">1.0</th>\n      <th rowspan=\"5\" valign=\"top\">0.0050</th>\n      <th>3.0</th>\n      <td>0.896727</td>\n      <td>0.325546</td>\n      <td>3.711757</td>\n    </tr>\n    <tr>\n      <th>5.0</th>\n      <td>0.941478</td>\n      <td>0.204935</td>\n      <td>3.679388</td>\n    </tr>\n    <tr>\n      <th>10.0</th>\n      <td>0.995088</td>\n      <td>0.054159</td>\n      <td>5.826122</td>\n    </tr>\n    <tr>\n      <th>20.0</th>\n      <td>0.968116</td>\n      <td>0.142014</td>\n      <td>4.623525</td>\n    </tr>\n    <tr>\n      <th>30.0</th>\n      <td>0.916183</td>\n      <td>0.299898</td>\n      <td>4.255035</td>\n    </tr>\n  </tbody>\n</table>\n<p>90 rows × 3 columns</p>\n</div>"
     },
     "execution_count": 7,
     "metadata": {},
     "output_type": "execute_result"
    }
   ],
   "source": [
    "lc_sumstat = data.groupby(['attributes', 'values', 'context_unaware', 'length_cost', 'max_mess_len'])['test_accuracy', 'test_loss', 'test_length'].describe()\n",
    "lc_acc = lc_sumstat.loc[:,[('test_accuracy', 'mean')]]\n",
    "lc_loss = lc_sumstat.loc[:,[('test_loss', 'mean')]]\n",
    "lc_length = lc_sumstat.loc[:,[('test_length', 'mean')]]\n",
    "lc_merged = lc_acc.merge(lc_loss, left_index=True, right_index=True)\n",
    "lc_merged = lc_merged.merge(lc_length, left_index=True, right_index=True)\n",
    "lc_merged"
   ]
  },
  {
   "attachments": {},
   "cell_type": "markdown",
   "metadata": {},
   "source": [
    "### Length cost"
   ]
  },
  {
   "cell_type": "code",
   "execution_count": 8,
   "metadata": {
    "ExecuteTime": {
     "end_time": "2024-04-17T07:23:24.818516Z",
     "start_time": "2024-04-17T07:23:24.767425Z"
    }
   },
   "outputs": [
    {
     "name": "stderr",
     "output_type": "stream",
     "text": [
      "/var/folders/k6/03rlh8jd6nqbws0_xg9jh20w0000gq/T/ipykernel_80914/1025698828.py:1: FutureWarning: Indexing with multiple keys (implicitly converted to a tuple of keys) will be deprecated, use a list instead.\n",
      "  lc_sumstat = data.groupby(['attributes', 'values', 'context_unaware', 'length_cost'])['test_accuracy', 'test_loss', 'test_length'].describe()\n"
     ]
    },
    {
     "data": {
      "text/plain": "                                              test_accuracy            \\\n                                                       mean       std   \nattributes values context_unaware length_cost                           \n3          4      0.0             0.0005           0.990468  0.004683   \n                                  0.0010           0.983805  0.002454   \n                                  0.0050           0.980172  0.006586   \n                  1.0             0.0005           0.988861  0.004997   \n                                  0.0010           0.991952  0.004920   \n                                  0.0050           0.979001  0.007181   \n           16     0.0             0.0005           0.971928  0.038506   \n                                  0.0010           0.984078  0.007849   \n                                  0.0050           0.799340  0.235369   \n                  1.0             0.0005           0.983590  0.017600   \n                                  0.0010           0.991446  0.003758   \n                                  0.0050           0.799849  0.238869   \n5          4      0.0             0.0005           0.922830  0.069450   \n                                  0.0010           0.950084  0.063422   \n                                  0.0050           0.953268  0.041514   \n                  1.0             0.0005           0.909666  0.052453   \n                                  0.0010           0.984555  0.029604   \n                                  0.0050           0.943518  0.039387   \n\n                                              test_loss           test_length  \\\n                                                   mean       std        mean   \nattributes values context_unaware length_cost                                   \n3          4      0.0             0.0005       0.038981  0.012496    8.279167   \n                                  0.0010       0.061285  0.008787    6.448611   \n                                  0.0050       0.086770  0.016116    4.104514   \n                  1.0             0.0005       0.048247  0.018218    7.825000   \n                                  0.0010       0.042618  0.022503    6.605903   \n                                  0.0050       0.089251  0.019386    4.057986   \n           16     0.0             0.0005       0.096388  0.108649    9.744303   \n                                  0.0010       0.073424  0.027594    4.987907   \n                                  0.0050       0.346195  0.308162    2.341946   \n                  1.0             0.0005       0.063665  0.048786    9.639876   \n                                  0.0010       0.045001  0.015169    5.476502   \n                                  0.0050       0.345183  0.312344    2.351967   \n5          4      0.0             0.0005       0.272080  0.295129   14.595836   \n                                  0.0010       0.158703  0.170447    9.589360   \n                                  0.0050       0.178161  0.112672    4.522280   \n                  1.0             0.0005       0.241196  0.120152   14.600000   \n                                  0.0010       0.068422  0.108259    8.532218   \n                                  0.0050       0.205311  0.112090    4.419165   \n\n                                                          \n                                                     std  \nattributes values context_unaware length_cost             \n3          4      0.0             0.0005        3.246126  \n                                  0.0010        1.877062  \n                                  0.0050        0.279776  \n                  1.0             0.0005        2.813684  \n                                  0.0010        1.633601  \n                                  0.0050        0.107236  \n           16     0.0             0.0005        6.964102  \n                                  0.0010        0.877896  \n                                  0.0050        1.252004  \n                  1.0             0.0005        6.903151  \n                                  0.0010        1.406436  \n                                  0.0050        1.255008  \n5          4      0.0             0.0005       11.275166  \n                                  0.0010        6.884280  \n                                  0.0050        1.008250  \n                  1.0             0.0005       11.282730  \n                                  0.0010        3.612372  \n                                  0.0050        0.879762  ",
      "text/html": "<div>\n<style scoped>\n    .dataframe tbody tr th:only-of-type {\n        vertical-align: middle;\n    }\n\n    .dataframe tbody tr th {\n        vertical-align: top;\n    }\n\n    .dataframe thead tr th {\n        text-align: left;\n    }\n\n    .dataframe thead tr:last-of-type th {\n        text-align: right;\n    }\n</style>\n<table border=\"1\" class=\"dataframe\">\n  <thead>\n    <tr>\n      <th></th>\n      <th></th>\n      <th></th>\n      <th></th>\n      <th colspan=\"2\" halign=\"left\">test_accuracy</th>\n      <th colspan=\"2\" halign=\"left\">test_loss</th>\n      <th colspan=\"2\" halign=\"left\">test_length</th>\n    </tr>\n    <tr>\n      <th></th>\n      <th></th>\n      <th></th>\n      <th></th>\n      <th>mean</th>\n      <th>std</th>\n      <th>mean</th>\n      <th>std</th>\n      <th>mean</th>\n      <th>std</th>\n    </tr>\n    <tr>\n      <th>attributes</th>\n      <th>values</th>\n      <th>context_unaware</th>\n      <th>length_cost</th>\n      <th></th>\n      <th></th>\n      <th></th>\n      <th></th>\n      <th></th>\n      <th></th>\n    </tr>\n  </thead>\n  <tbody>\n    <tr>\n      <th rowspan=\"12\" valign=\"top\">3</th>\n      <th rowspan=\"6\" valign=\"top\">4</th>\n      <th rowspan=\"3\" valign=\"top\">0.0</th>\n      <th>0.0005</th>\n      <td>0.990468</td>\n      <td>0.004683</td>\n      <td>0.038981</td>\n      <td>0.012496</td>\n      <td>8.279167</td>\n      <td>3.246126</td>\n    </tr>\n    <tr>\n      <th>0.0010</th>\n      <td>0.983805</td>\n      <td>0.002454</td>\n      <td>0.061285</td>\n      <td>0.008787</td>\n      <td>6.448611</td>\n      <td>1.877062</td>\n    </tr>\n    <tr>\n      <th>0.0050</th>\n      <td>0.980172</td>\n      <td>0.006586</td>\n      <td>0.086770</td>\n      <td>0.016116</td>\n      <td>4.104514</td>\n      <td>0.279776</td>\n    </tr>\n    <tr>\n      <th rowspan=\"3\" valign=\"top\">1.0</th>\n      <th>0.0005</th>\n      <td>0.988861</td>\n      <td>0.004997</td>\n      <td>0.048247</td>\n      <td>0.018218</td>\n      <td>7.825000</td>\n      <td>2.813684</td>\n    </tr>\n    <tr>\n      <th>0.0010</th>\n      <td>0.991952</td>\n      <td>0.004920</td>\n      <td>0.042618</td>\n      <td>0.022503</td>\n      <td>6.605903</td>\n      <td>1.633601</td>\n    </tr>\n    <tr>\n      <th>0.0050</th>\n      <td>0.979001</td>\n      <td>0.007181</td>\n      <td>0.089251</td>\n      <td>0.019386</td>\n      <td>4.057986</td>\n      <td>0.107236</td>\n    </tr>\n    <tr>\n      <th rowspan=\"6\" valign=\"top\">16</th>\n      <th rowspan=\"3\" valign=\"top\">0.0</th>\n      <th>0.0005</th>\n      <td>0.971928</td>\n      <td>0.038506</td>\n      <td>0.096388</td>\n      <td>0.108649</td>\n      <td>9.744303</td>\n      <td>6.964102</td>\n    </tr>\n    <tr>\n      <th>0.0010</th>\n      <td>0.984078</td>\n      <td>0.007849</td>\n      <td>0.073424</td>\n      <td>0.027594</td>\n      <td>4.987907</td>\n      <td>0.877896</td>\n    </tr>\n    <tr>\n      <th>0.0050</th>\n      <td>0.799340</td>\n      <td>0.235369</td>\n      <td>0.346195</td>\n      <td>0.308162</td>\n      <td>2.341946</td>\n      <td>1.252004</td>\n    </tr>\n    <tr>\n      <th rowspan=\"3\" valign=\"top\">1.0</th>\n      <th>0.0005</th>\n      <td>0.983590</td>\n      <td>0.017600</td>\n      <td>0.063665</td>\n      <td>0.048786</td>\n      <td>9.639876</td>\n      <td>6.903151</td>\n    </tr>\n    <tr>\n      <th>0.0010</th>\n      <td>0.991446</td>\n      <td>0.003758</td>\n      <td>0.045001</td>\n      <td>0.015169</td>\n      <td>5.476502</td>\n      <td>1.406436</td>\n    </tr>\n    <tr>\n      <th>0.0050</th>\n      <td>0.799849</td>\n      <td>0.238869</td>\n      <td>0.345183</td>\n      <td>0.312344</td>\n      <td>2.351967</td>\n      <td>1.255008</td>\n    </tr>\n    <tr>\n      <th rowspan=\"6\" valign=\"top\">5</th>\n      <th rowspan=\"6\" valign=\"top\">4</th>\n      <th rowspan=\"3\" valign=\"top\">0.0</th>\n      <th>0.0005</th>\n      <td>0.922830</td>\n      <td>0.069450</td>\n      <td>0.272080</td>\n      <td>0.295129</td>\n      <td>14.595836</td>\n      <td>11.275166</td>\n    </tr>\n    <tr>\n      <th>0.0010</th>\n      <td>0.950084</td>\n      <td>0.063422</td>\n      <td>0.158703</td>\n      <td>0.170447</td>\n      <td>9.589360</td>\n      <td>6.884280</td>\n    </tr>\n    <tr>\n      <th>0.0050</th>\n      <td>0.953268</td>\n      <td>0.041514</td>\n      <td>0.178161</td>\n      <td>0.112672</td>\n      <td>4.522280</td>\n      <td>1.008250</td>\n    </tr>\n    <tr>\n      <th rowspan=\"3\" valign=\"top\">1.0</th>\n      <th>0.0005</th>\n      <td>0.909666</td>\n      <td>0.052453</td>\n      <td>0.241196</td>\n      <td>0.120152</td>\n      <td>14.600000</td>\n      <td>11.282730</td>\n    </tr>\n    <tr>\n      <th>0.0010</th>\n      <td>0.984555</td>\n      <td>0.029604</td>\n      <td>0.068422</td>\n      <td>0.108259</td>\n      <td>8.532218</td>\n      <td>3.612372</td>\n    </tr>\n    <tr>\n      <th>0.0050</th>\n      <td>0.943518</td>\n      <td>0.039387</td>\n      <td>0.205311</td>\n      <td>0.112090</td>\n      <td>4.419165</td>\n      <td>0.879762</td>\n    </tr>\n  </tbody>\n</table>\n</div>"
     },
     "execution_count": 8,
     "metadata": {},
     "output_type": "execute_result"
    }
   ],
   "source": [
    "lc_sumstat = data.groupby(['attributes', 'values', 'context_unaware', 'length_cost'])['test_accuracy', 'test_loss', 'test_length'].describe()\n",
    "lc_acc = lc_sumstat.loc[:,[('test_accuracy', 'mean'), ('test_accuracy', 'std')]]\n",
    "lc_loss = lc_sumstat.loc[:,[('test_loss', 'mean'), ('test_loss', 'std')]]\n",
    "lc_length = lc_sumstat.loc[:,[('test_length', 'mean'), ('test_length', 'std')]]\n",
    "lc_merged = lc_acc.merge(lc_loss, left_index=True, right_index=True)\n",
    "lc_merged = lc_merged.merge(lc_length, left_index=True, right_index=True)\n",
    "lc_merged"
   ]
  },
  {
   "attachments": {},
   "cell_type": "markdown",
   "metadata": {},
   "source": [
    "### Maximum message length\n",
    "No large differences between max_mess_len = 10, 20 or 30 for all datasets. Go with lowest or highest, best or best for all?\n",
    "Max_mess_len = 20 seems to work well for all."
   ]
  },
  {
   "cell_type": "code",
   "execution_count": 9,
   "metadata": {
    "ExecuteTime": {
     "end_time": "2024-04-17T07:25:18.352069Z",
     "start_time": "2024-04-17T07:25:18.280150Z"
    }
   },
   "outputs": [
    {
     "name": "stderr",
     "output_type": "stream",
     "text": [
      "/var/folders/k6/03rlh8jd6nqbws0_xg9jh20w0000gq/T/ipykernel_80914/319962527.py:1: FutureWarning: Indexing with multiple keys (implicitly converted to a tuple of keys) will be deprecated, use a list instead.\n",
      "  lc_sumstat = data.groupby(['attributes', 'values', 'context_unaware', 'max_mess_len'])['test_accuracy', 'test_loss', 'test_length'].describe()\n"
     ]
    },
    {
     "data": {
      "text/plain": "                                               test_accuracy            \\\n                                                        mean       std   \nattributes values context_unaware max_mess_len                           \n3          4      0.0             3.0               0.980592  0.010208   \n                                  5.0               0.988068  0.005886   \n                                  10.0              0.985352  0.009542   \n                                  20.0              0.984591  0.001654   \n                                  30.0              0.985472  0.001616   \n                  1.0             3.0               0.984838  0.002540   \n                                  5.0               0.984042  0.010427   \n                                  10.0              0.983671  0.010884   \n                                  20.0              0.990169  0.009919   \n                                  30.0              0.990302  0.005587   \n           16     0.0             3.0               0.840766  0.260015   \n                                  5.0               0.835097  0.253069   \n                                  10.0              0.975795  0.019695   \n                                  20.0              0.957110  0.045349   \n                                  30.0              0.983475  0.013580   \n                  1.0             3.0               0.840331  0.259126   \n                                  5.0               0.840421  0.264164   \n                                  10.0              0.983840  0.007969   \n                                  20.0              0.970804  0.021377   \n                                  30.0              0.989411  0.006704   \n5          4      0.0             3.0               0.897400  0.056682   \n                                  5.0               0.993311  0.001497   \n                                  10.0              0.962181  0.057849   \n                                  20.0              0.915891  0.071101   \n                                  30.0              0.941520  0.048519   \n                  1.0             3.0               0.918880  0.019259   \n                                  5.0               0.977160  0.030939   \n                                  10.0              0.953347  0.075543   \n                                  20.0              0.948685  0.060345   \n                                  30.0              0.931493  0.061210   \n\n                                               test_loss            \\\n                                                    mean       std   \nattributes values context_unaware max_mess_len                       \n3          4      0.0             3.0           0.071679  0.030649   \n                                  5.0           0.056630  0.030366   \n                                  10.0          0.064605  0.039317   \n                                  20.0          0.058824  0.011689   \n                                  30.0          0.059990  0.009321   \n                  1.0             3.0           0.070660  0.008574   \n                                  5.0           0.071246  0.035114   \n                                  10.0          0.064441  0.036643   \n                                  20.0          0.045113  0.038741   \n                                  30.0          0.048733  0.024604   \n           16     0.0             3.0           0.256851  0.366852   \n                                  5.0           0.283669  0.348271   \n                                  10.0          0.094807  0.064535   \n                                  20.0          0.150165  0.114673   \n                                  30.0          0.074520  0.053896   \n                  1.0             3.0           0.260890  0.368850   \n                                  5.0           0.255117  0.374328   \n                                  10.0          0.076828  0.035735   \n                                  20.0          0.107230  0.064341   \n                                  30.0          0.056351  0.035182   \n5          4      0.0             3.0           0.437243  0.279015   \n                                  5.0           0.045379  0.019905   \n                                  10.0          0.119594  0.163988   \n                                  20.0          0.225558  0.155583   \n                                  30.0          0.187134  0.124839   \n                  1.0             3.0           0.284515  0.035594   \n                                  5.0           0.084760  0.104144   \n                                  10.0          0.128067  0.160451   \n                                  20.0          0.155321  0.136058   \n                                  30.0          0.205552  0.165017   \n\n                                               test_length             \n                                                      mean        std  \nattributes values context_unaware max_mess_len                         \n3          4      0.0             3.0             4.000000   0.000000  \n                                  5.0             5.473958   0.911131  \n                                  10.0            7.962963   3.435419  \n                                  20.0            6.200810   2.366200  \n                                  30.0            7.749421   3.958846  \n                  1.0             3.0             4.000000   0.000000  \n                                  5.0             5.373843   1.084537  \n                                  10.0            7.685764   3.385513  \n                                  20.0            6.702546   2.338359  \n                                  30.0            7.052662   2.916794  \n           16     0.0             3.0             3.000000   1.732051  \n                                  5.0             3.333333   2.516611  \n                                  10.0            6.198538   4.269409  \n                                  20.0            9.879213   9.189586  \n                                  30.0            6.045842   3.731824  \n                  1.0             3.0             3.000000   1.732051  \n                                  5.0             4.333333   2.886751  \n                                  10.0            4.512581   1.312791  \n                                  20.0           10.486956   9.369702  \n                                  30.0            6.781038   4.067292  \n5          4      0.0             3.0             4.000000   0.000000  \n                                  5.0             5.881111   0.205922  \n                                  10.0            8.519658   4.296078  \n                                  20.0           15.860769   8.901063  \n                                  30.0           13.584254  15.101723  \n                  1.0             3.0             3.903919   0.166417  \n                                  5.0             5.226463   1.339806  \n                                  10.0            9.275374   2.987140  \n                                  20.0           12.842138   8.188406  \n                                  30.0           14.671079  14.319388  ",
      "text/html": "<div>\n<style scoped>\n    .dataframe tbody tr th:only-of-type {\n        vertical-align: middle;\n    }\n\n    .dataframe tbody tr th {\n        vertical-align: top;\n    }\n\n    .dataframe thead tr th {\n        text-align: left;\n    }\n\n    .dataframe thead tr:last-of-type th {\n        text-align: right;\n    }\n</style>\n<table border=\"1\" class=\"dataframe\">\n  <thead>\n    <tr>\n      <th></th>\n      <th></th>\n      <th></th>\n      <th></th>\n      <th colspan=\"2\" halign=\"left\">test_accuracy</th>\n      <th colspan=\"2\" halign=\"left\">test_loss</th>\n      <th colspan=\"2\" halign=\"left\">test_length</th>\n    </tr>\n    <tr>\n      <th></th>\n      <th></th>\n      <th></th>\n      <th></th>\n      <th>mean</th>\n      <th>std</th>\n      <th>mean</th>\n      <th>std</th>\n      <th>mean</th>\n      <th>std</th>\n    </tr>\n    <tr>\n      <th>attributes</th>\n      <th>values</th>\n      <th>context_unaware</th>\n      <th>max_mess_len</th>\n      <th></th>\n      <th></th>\n      <th></th>\n      <th></th>\n      <th></th>\n      <th></th>\n    </tr>\n  </thead>\n  <tbody>\n    <tr>\n      <th rowspan=\"20\" valign=\"top\">3</th>\n      <th rowspan=\"10\" valign=\"top\">4</th>\n      <th rowspan=\"5\" valign=\"top\">0.0</th>\n      <th>3.0</th>\n      <td>0.980592</td>\n      <td>0.010208</td>\n      <td>0.071679</td>\n      <td>0.030649</td>\n      <td>4.000000</td>\n      <td>0.000000</td>\n    </tr>\n    <tr>\n      <th>5.0</th>\n      <td>0.988068</td>\n      <td>0.005886</td>\n      <td>0.056630</td>\n      <td>0.030366</td>\n      <td>5.473958</td>\n      <td>0.911131</td>\n    </tr>\n    <tr>\n      <th>10.0</th>\n      <td>0.985352</td>\n      <td>0.009542</td>\n      <td>0.064605</td>\n      <td>0.039317</td>\n      <td>7.962963</td>\n      <td>3.435419</td>\n    </tr>\n    <tr>\n      <th>20.0</th>\n      <td>0.984591</td>\n      <td>0.001654</td>\n      <td>0.058824</td>\n      <td>0.011689</td>\n      <td>6.200810</td>\n      <td>2.366200</td>\n    </tr>\n    <tr>\n      <th>30.0</th>\n      <td>0.985472</td>\n      <td>0.001616</td>\n      <td>0.059990</td>\n      <td>0.009321</td>\n      <td>7.749421</td>\n      <td>3.958846</td>\n    </tr>\n    <tr>\n      <th rowspan=\"5\" valign=\"top\">1.0</th>\n      <th>3.0</th>\n      <td>0.984838</td>\n      <td>0.002540</td>\n      <td>0.070660</td>\n      <td>0.008574</td>\n      <td>4.000000</td>\n      <td>0.000000</td>\n    </tr>\n    <tr>\n      <th>5.0</th>\n      <td>0.984042</td>\n      <td>0.010427</td>\n      <td>0.071246</td>\n      <td>0.035114</td>\n      <td>5.373843</td>\n      <td>1.084537</td>\n    </tr>\n    <tr>\n      <th>10.0</th>\n      <td>0.983671</td>\n      <td>0.010884</td>\n      <td>0.064441</td>\n      <td>0.036643</td>\n      <td>7.685764</td>\n      <td>3.385513</td>\n    </tr>\n    <tr>\n      <th>20.0</th>\n      <td>0.990169</td>\n      <td>0.009919</td>\n      <td>0.045113</td>\n      <td>0.038741</td>\n      <td>6.702546</td>\n      <td>2.338359</td>\n    </tr>\n    <tr>\n      <th>30.0</th>\n      <td>0.990302</td>\n      <td>0.005587</td>\n      <td>0.048733</td>\n      <td>0.024604</td>\n      <td>7.052662</td>\n      <td>2.916794</td>\n    </tr>\n    <tr>\n      <th rowspan=\"10\" valign=\"top\">16</th>\n      <th rowspan=\"5\" valign=\"top\">0.0</th>\n      <th>3.0</th>\n      <td>0.840766</td>\n      <td>0.260015</td>\n      <td>0.256851</td>\n      <td>0.366852</td>\n      <td>3.000000</td>\n      <td>1.732051</td>\n    </tr>\n    <tr>\n      <th>5.0</th>\n      <td>0.835097</td>\n      <td>0.253069</td>\n      <td>0.283669</td>\n      <td>0.348271</td>\n      <td>3.333333</td>\n      <td>2.516611</td>\n    </tr>\n    <tr>\n      <th>10.0</th>\n      <td>0.975795</td>\n      <td>0.019695</td>\n      <td>0.094807</td>\n      <td>0.064535</td>\n      <td>6.198538</td>\n      <td>4.269409</td>\n    </tr>\n    <tr>\n      <th>20.0</th>\n      <td>0.957110</td>\n      <td>0.045349</td>\n      <td>0.150165</td>\n      <td>0.114673</td>\n      <td>9.879213</td>\n      <td>9.189586</td>\n    </tr>\n    <tr>\n      <th>30.0</th>\n      <td>0.983475</td>\n      <td>0.013580</td>\n      <td>0.074520</td>\n      <td>0.053896</td>\n      <td>6.045842</td>\n      <td>3.731824</td>\n    </tr>\n    <tr>\n      <th rowspan=\"5\" valign=\"top\">1.0</th>\n      <th>3.0</th>\n      <td>0.840331</td>\n      <td>0.259126</td>\n      <td>0.260890</td>\n      <td>0.368850</td>\n      <td>3.000000</td>\n      <td>1.732051</td>\n    </tr>\n    <tr>\n      <th>5.0</th>\n      <td>0.840421</td>\n      <td>0.264164</td>\n      <td>0.255117</td>\n      <td>0.374328</td>\n      <td>4.333333</td>\n      <td>2.886751</td>\n    </tr>\n    <tr>\n      <th>10.0</th>\n      <td>0.983840</td>\n      <td>0.007969</td>\n      <td>0.076828</td>\n      <td>0.035735</td>\n      <td>4.512581</td>\n      <td>1.312791</td>\n    </tr>\n    <tr>\n      <th>20.0</th>\n      <td>0.970804</td>\n      <td>0.021377</td>\n      <td>0.107230</td>\n      <td>0.064341</td>\n      <td>10.486956</td>\n      <td>9.369702</td>\n    </tr>\n    <tr>\n      <th>30.0</th>\n      <td>0.989411</td>\n      <td>0.006704</td>\n      <td>0.056351</td>\n      <td>0.035182</td>\n      <td>6.781038</td>\n      <td>4.067292</td>\n    </tr>\n    <tr>\n      <th rowspan=\"10\" valign=\"top\">5</th>\n      <th rowspan=\"10\" valign=\"top\">4</th>\n      <th rowspan=\"5\" valign=\"top\">0.0</th>\n      <th>3.0</th>\n      <td>0.897400</td>\n      <td>0.056682</td>\n      <td>0.437243</td>\n      <td>0.279015</td>\n      <td>4.000000</td>\n      <td>0.000000</td>\n    </tr>\n    <tr>\n      <th>5.0</th>\n      <td>0.993311</td>\n      <td>0.001497</td>\n      <td>0.045379</td>\n      <td>0.019905</td>\n      <td>5.881111</td>\n      <td>0.205922</td>\n    </tr>\n    <tr>\n      <th>10.0</th>\n      <td>0.962181</td>\n      <td>0.057849</td>\n      <td>0.119594</td>\n      <td>0.163988</td>\n      <td>8.519658</td>\n      <td>4.296078</td>\n    </tr>\n    <tr>\n      <th>20.0</th>\n      <td>0.915891</td>\n      <td>0.071101</td>\n      <td>0.225558</td>\n      <td>0.155583</td>\n      <td>15.860769</td>\n      <td>8.901063</td>\n    </tr>\n    <tr>\n      <th>30.0</th>\n      <td>0.941520</td>\n      <td>0.048519</td>\n      <td>0.187134</td>\n      <td>0.124839</td>\n      <td>13.584254</td>\n      <td>15.101723</td>\n    </tr>\n    <tr>\n      <th rowspan=\"5\" valign=\"top\">1.0</th>\n      <th>3.0</th>\n      <td>0.918880</td>\n      <td>0.019259</td>\n      <td>0.284515</td>\n      <td>0.035594</td>\n      <td>3.903919</td>\n      <td>0.166417</td>\n    </tr>\n    <tr>\n      <th>5.0</th>\n      <td>0.977160</td>\n      <td>0.030939</td>\n      <td>0.084760</td>\n      <td>0.104144</td>\n      <td>5.226463</td>\n      <td>1.339806</td>\n    </tr>\n    <tr>\n      <th>10.0</th>\n      <td>0.953347</td>\n      <td>0.075543</td>\n      <td>0.128067</td>\n      <td>0.160451</td>\n      <td>9.275374</td>\n      <td>2.987140</td>\n    </tr>\n    <tr>\n      <th>20.0</th>\n      <td>0.948685</td>\n      <td>0.060345</td>\n      <td>0.155321</td>\n      <td>0.136058</td>\n      <td>12.842138</td>\n      <td>8.188406</td>\n    </tr>\n    <tr>\n      <th>30.0</th>\n      <td>0.931493</td>\n      <td>0.061210</td>\n      <td>0.205552</td>\n      <td>0.165017</td>\n      <td>14.671079</td>\n      <td>14.319388</td>\n    </tr>\n  </tbody>\n</table>\n</div>"
     },
     "execution_count": 9,
     "metadata": {},
     "output_type": "execute_result"
    }
   ],
   "source": [
    "lc_sumstat = data.groupby(['attributes', 'values', 'context_unaware', 'max_mess_len'])['test_accuracy', 'test_loss', 'test_length'].describe()\n",
    "lc_acc = lc_sumstat.loc[:,[('test_accuracy', 'mean'), ('test_accuracy', 'std')]]\n",
    "lc_loss = lc_sumstat.loc[:,[('test_loss', 'mean'), ('test_loss', 'std')]]\n",
    "lc_length = lc_sumstat.loc[:,[('test_length', 'mean'), ('test_length', 'std')]]\n",
    "lc_merged = lc_acc.merge(lc_loss, left_index=True, right_index=True)\n",
    "lc_merged = lc_merged.merge(lc_length, left_index=True, right_index=True)\n",
    "lc_merged"
   ]
  }
 ],
 "metadata": {
  "kernelspec": {
   "display_name": "egg",
   "language": "python",
   "name": "python3"
  },
  "language_info": {
   "codemirror_mode": {
    "name": "ipython",
    "version": 3
   },
   "file_extension": ".py",
   "mimetype": "text/x-python",
   "name": "python",
   "nbconvert_exporter": "python",
   "pygments_lexer": "ipython3",
   "version": "3.9.15"
  },
  "orig_nbformat": 4
 },
 "nbformat": 4,
 "nbformat_minor": 2
}
