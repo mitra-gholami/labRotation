{
 "cells": [
  {
   "cell_type": "code",
   "execution_count": 1,
   "metadata": {
    "ExecuteTime": {
     "end_time": "2024-06-11T15:49:56.414235Z",
     "start_time": "2024-06-11T15:49:52.835216Z"
    }
   },
   "outputs": [],
   "source": [
    "from utils.load_results import *\n",
    "from utils.plot_helpers import *\n",
    "\n",
    "import pandas as pd\n",
    "import seaborn as sns\n",
    "from matplotlib import pyplot as plt\n",
    "import numpy as np\n",
    "from scipy import stats\n",
    "\n",
    "from utils.load_results import *\n",
    "from utils.plot_helpers import *\n",
    "\n",
    "import pandas as pd\n",
    "import seaborn as sns\n",
    "from matplotlib import pyplot as plt\n",
    "plt.style.use('default')\n",
    "import torch\n",
    "from utils.analysis_from_interaction import *\n",
    "from language_analysis_local import TopographicSimilarityConceptLevel, encode_target_concepts_for_topsim\n",
    "import os\n",
    "if not os.path.exists('analysis'):\n",
    "    os.makedirs('analysis')\n",
    "#import plotly.express as px"
   ]
  },
  {
   "cell_type": "code",
   "execution_count": 24,
   "metadata": {
    "ExecuteTime": {
     "end_time": "2024-06-11T14:40:07.425479Z",
     "start_time": "2024-06-11T14:40:06.087658Z"
    }
   },
   "outputs": [],
   "source": [
    "datasets = ['(3,4)', '(3,8)', '(3,16)', '(4,4)', '(4,8)', '(5,4)']\n",
    "n_values = [4, 8, 16, 4, 8, 4]\n",
    "n_attributes = [3, 3, 3, 4, 4, 5]\n",
    "n_epochs = 300\n",
    "n_datasets = len(datasets)\n",
    "paths = ['results/' + d + '_game_size_10_vsf_3' for d in datasets]"
   ]
  },
  {
   "cell_type": "code",
   "execution_count": 2,
   "outputs": [],
   "source": [
    "datasets = ['(3,4)',]\n",
    "n_values = [4,]\n",
    "n_attributes = [3,]\n",
    "n_epochs = 300\n",
    "n_datasets = len(datasets)\n",
    "paths = ['results/' + d + '_game_size_10_vsf_3' for d in datasets]"
   ],
   "metadata": {
    "collapsed": false,
    "ExecuteTime": {
     "end_time": "2024-06-11T15:49:56.437463Z",
     "start_time": "2024-06-11T15:49:56.420399Z"
    }
   }
  },
  {
   "cell_type": "code",
   "execution_count": 3,
   "outputs": [],
   "source": [
    "context_unaware = True # whether original or context_unaware simulations are evaluated\n",
    "no_cost = False # set to True to consider baselines without a cost\n",
    "if context_unaware and not no_cost:\n",
    "    setting = 'context_unaware'\n",
    "elif context_unaware and no_cost:\n",
    "    setting = 'no_cost_context_unaware'\n",
    "elif not context_unaware and not no_cost:\n",
    "    setting = 'context_aware'\n",
    "else:\n",
    "    setting = 'no_cost_context_aware'"
   ],
   "metadata": {
    "collapsed": false,
    "ExecuteTime": {
     "end_time": "2024-06-11T15:49:56.480752Z",
     "start_time": "2024-06-11T15:49:56.446826Z"
    }
   }
  },
  {
   "attachments": {},
   "cell_type": "markdown",
   "metadata": {},
   "source": [
    "## training"
   ]
  },
  {
   "cell_type": "code",
   "execution_count": 4,
   "metadata": {
    "ExecuteTime": {
     "end_time": "2024-06-11T15:49:59.114801Z",
     "start_time": "2024-06-11T15:49:58.141582Z"
    }
   },
   "outputs": [
    {
     "name": "stderr",
     "output_type": "stream",
     "text": [
      "/Users/kkobrock/Projects/phdproject1/emergent-abstractions/utils/load_results.py:175: VisibleDeprecationWarning: Creating an ndarray from ragged nested sequences (which is a list-or-tuple of lists-or-tuples-or ndarrays with different lengths or shapes) is deprecated. If you meant to do this, you must specify 'dtype=object' when creating the ndarray.\n",
      "  result_dict[key] = np.array(result_dict[key])\n"
     ]
    },
    {
     "ename": "TypeError",
     "evalue": "'NoneType' object is not subscriptable",
     "output_type": "error",
     "traceback": [
      "\u001B[0;31m---------------------------------------------------------------------------\u001B[0m",
      "\u001B[0;31mTypeError\u001B[0m                                 Traceback (most recent call last)",
      "Cell \u001B[0;32mIn [4], line 2\u001B[0m\n\u001B[1;32m      1\u001B[0m all_accuracies \u001B[38;5;241m=\u001B[39m load_accuracies(paths, n_runs\u001B[38;5;241m=\u001B[39m\u001B[38;5;241m5\u001B[39m, n_epochs\u001B[38;5;241m=\u001B[39m\u001B[38;5;241m300\u001B[39m, val_steps\u001B[38;5;241m=\u001B[39m\u001B[38;5;241m1\u001B[39m, zero_shot\u001B[38;5;241m=\u001B[39m\u001B[38;5;28;01mTrue\u001B[39;00m, context_unaware\u001B[38;5;241m=\u001B[39m\u001B[38;5;28;01mTrue\u001B[39;00m, length_cost\u001B[38;5;241m=\u001B[39m\u001B[38;5;28;01mTrue\u001B[39;00m)\n\u001B[0;32m----> 2\u001B[0m \u001B[43mplot_training_trajectory\u001B[49m\u001B[43m(\u001B[49m\u001B[43mall_accuracies\u001B[49m\u001B[43m[\u001B[49m\u001B[38;5;124;43m'\u001B[39;49m\u001B[38;5;124;43mtrain_acc\u001B[39;49m\u001B[38;5;124;43m'\u001B[39;49m\u001B[43m]\u001B[49m\u001B[43m,\u001B[49m\u001B[43m \u001B[49m\u001B[43mall_accuracies\u001B[49m\u001B[43m[\u001B[49m\u001B[38;5;124;43m'\u001B[39;49m\u001B[38;5;124;43mval_acc\u001B[39;49m\u001B[38;5;124;43m'\u001B[39;49m\u001B[43m]\u001B[49m\u001B[43m,\u001B[49m\u001B[43m \u001B[49m\u001B[43mylim\u001B[49m\u001B[38;5;241;43m=\u001B[39;49m\u001B[43m(\u001B[49m\u001B[38;5;241;43m0.1\u001B[39;49m\u001B[43m,\u001B[49m\u001B[43m \u001B[49m\u001B[38;5;241;43m1.05\u001B[39;49m\u001B[43m)\u001B[49m\u001B[43m,\u001B[49m\u001B[43m \u001B[49m\u001B[43msteps\u001B[49m\u001B[38;5;241;43m=\u001B[39;49m\u001B[43m(\u001B[49m\u001B[38;5;241;43m1\u001B[39;49m\u001B[43m,\u001B[49m\u001B[43m \u001B[49m\u001B[38;5;241;43m1\u001B[39;49m\u001B[43m)\u001B[49m\u001B[43m)\u001B[49m\n",
      "File \u001B[0;32m~/Projects/phdproject1/emergent-abstractions/utils/plot_helpers.py:348\u001B[0m, in \u001B[0;36mplot_training_trajectory\u001B[0;34m(results_train, results_val, message_length_train, message_length_val, steps, figsize, ylim, xlim, plot_indices, plot_shape, n_epochs, train_only, loss_plot, message_length_plot, titles)\u001B[0m\n\u001B[1;32m    346\u001B[0m \u001B[38;5;28;01mfor\u001B[39;00m i, plot_idx \u001B[38;5;129;01min\u001B[39;00m \u001B[38;5;28menumerate\u001B[39m(plot_indices):\n\u001B[1;32m    347\u001B[0m     plt\u001B[38;5;241m.\u001B[39msubplot(plot_shape[\u001B[38;5;241m0\u001B[39m], plot_shape[\u001B[38;5;241m1\u001B[39m], plot_idx)\n\u001B[0;32m--> 348\u001B[0m     \u001B[38;5;28mprint\u001B[39m(\u001B[38;5;28mlen\u001B[39m(\u001B[43mmessage_length_train\u001B[49m\u001B[43m[\u001B[49m\u001B[43mi\u001B[49m\u001B[43m]\u001B[49m), \u001B[38;5;28mlen\u001B[39m(results_train[i]))\n\u001B[1;32m    349\u001B[0m     \u001B[38;5;28;01mif\u001B[39;00m message_length_plot:\n\u001B[1;32m    350\u001B[0m         \u001B[38;5;28;01mfor\u001B[39;00m j \u001B[38;5;129;01min\u001B[39;00m \u001B[38;5;28mrange\u001B[39m(\u001B[38;5;28mlen\u001B[39m(message_length_train[i])):\n",
      "\u001B[0;31mTypeError\u001B[0m: 'NoneType' object is not subscriptable"
     ]
    },
    {
     "data": {
      "text/plain": "<Figure size 1000x700 with 1 Axes>",
      "image/png": "[encoded data removed]"
     },
     "metadata": {},
     "output_type": "display_data"
    }
   ],
   "source": [
    "all_accuracies = load_accuracies(paths, n_runs=5, n_epochs=300, val_steps=1, zero_shot=True, context_unaware=True, length_cost=True)\n",
    "plot_training_trajectory(all_accuracies['train_acc'], all_accuracies['val_acc'], ylim=(0.1, 1.05), steps=(1, 1))"
   ]
  },
  {
   "cell_type": "code",
   "execution_count": null,
   "outputs": [],
   "source": [
    "len(all_accuracies['cu_zs_specific_val_message_length'][0][0])"
   ],
   "metadata": {
    "collapsed": false,
    "ExecuteTime": {
     "start_time": "2024-06-11T14:40:06.634725Z"
    }
   }
  },
  {
   "cell_type": "code",
   "execution_count": null,
   "outputs": [],
   "source": [
    "len(all_accuracies['train_acc'][0][0])"
   ],
   "metadata": {
    "collapsed": false,
    "ExecuteTime": {
     "start_time": "2024-06-11T14:40:06.652342Z"
    }
   }
  },
  {
   "cell_type": "code",
   "execution_count": 7,
   "outputs": [
    {
     "data": {
      "text/plain": "300"
     },
     "execution_count": 7,
     "metadata": {},
     "output_type": "execute_result"
    }
   ],
   "source": [
    "len(np.transpose(all_accuracies['train_acc']))"
   ],
   "metadata": {
    "collapsed": false,
    "ExecuteTime": {
     "end_time": "2024-06-11T14:47:43.228391Z",
     "start_time": "2024-06-11T14:47:43.190712Z"
    }
   }
  },
  {
   "cell_type": "code",
   "execution_count": 6,
   "outputs": [
    {
     "data": {
      "text/plain": "numpy.ndarray"
     },
     "execution_count": 6,
     "metadata": {},
     "output_type": "execute_result"
    }
   ],
   "source": [
    "type(all_accuracies['train_acc'][0][0])"
   ],
   "metadata": {
    "collapsed": false,
    "ExecuteTime": {
     "end_time": "2024-06-11T14:45:28.560955Z",
     "start_time": "2024-06-11T14:45:28.522154Z"
    }
   }
  },
  {
   "cell_type": "code",
   "execution_count": 7,
   "outputs": [
    {
     "data": {
      "text/plain": "tuple"
     },
     "execution_count": 7,
     "metadata": {},
     "output_type": "execute_result"
    }
   ],
   "source": [
    "type(all_accuracies['cu_zs_specific_val_message_length'][0][0])"
   ],
   "metadata": {
    "collapsed": false,
    "ExecuteTime": {
     "end_time": "2024-06-11T14:45:30.101104Z",
     "start_time": "2024-06-11T14:45:30.050833Z"
    }
   }
  },
  {
   "cell_type": "code",
   "execution_count": 15,
   "outputs": [
    {
     "data": {
      "text/plain": "5"
     },
     "execution_count": 15,
     "metadata": {},
     "output_type": "execute_result"
    }
   ],
   "source": [
    "len(np.transpose(all_accuracies['cu_zs_specific_val_message_length']))"
   ],
   "metadata": {
    "collapsed": false,
    "ExecuteTime": {
     "end_time": "2024-06-11T14:52:13.854953Z",
     "start_time": "2024-06-11T14:52:13.801693Z"
    }
   }
  },
  {
   "cell_type": "code",
   "execution_count": null,
   "outputs": [],
   "source": [],
   "metadata": {
    "collapsed": false
   }
  },
  {
   "cell_type": "code",
   "execution_count": 5,
   "outputs": [
    {
     "name": "stdout",
     "output_type": "stream",
     "text": [
      "5 5\n"
     ]
    },
    {
     "ename": "ValueError",
     "evalue": "x and y must have same first dimension, but have shapes (97,) and (5,)",
     "output_type": "error",
     "traceback": [
      "\u001B[0;31m---------------------------------------------------------------------------\u001B[0m",
      "\u001B[0;31mValueError\u001B[0m                                Traceback (most recent call last)",
      "Cell \u001B[0;32mIn [5], line 1\u001B[0m\n\u001B[0;32m----> 1\u001B[0m \u001B[43mplot_training_trajectory\u001B[49m\u001B[43m(\u001B[49m\u001B[43mresults_train\u001B[49m\u001B[38;5;241;43m=\u001B[39;49m\u001B[43mall_accuracies\u001B[49m\u001B[43m[\u001B[49m\u001B[38;5;124;43m'\u001B[39;49m\u001B[38;5;124;43mtrain_acc\u001B[39;49m\u001B[38;5;124;43m'\u001B[39;49m\u001B[43m]\u001B[49m\u001B[43m,\u001B[49m\u001B[43m \u001B[49m\u001B[43mresults_val\u001B[49m\u001B[38;5;241;43m=\u001B[39;49m\u001B[38;5;28;43;01mNone\u001B[39;49;00m\u001B[43m,\u001B[49m\u001B[43m \u001B[49m\u001B[43mylim\u001B[49m\u001B[38;5;241;43m=\u001B[39;49m\u001B[43m(\u001B[49m\u001B[38;5;241;43m0\u001B[39;49m\u001B[43m,\u001B[49m\u001B[43m \u001B[49m\u001B[38;5;241;43m30\u001B[39;49m\u001B[43m)\u001B[49m\u001B[43m,\u001B[49m\u001B[43m \u001B[49m\u001B[43mxlim\u001B[49m\u001B[38;5;241;43m=\u001B[39;49m\u001B[43m(\u001B[49m\u001B[38;5;241;43m0\u001B[39;49m\u001B[43m,\u001B[49m\u001B[43m \u001B[49m\u001B[38;5;241;43m100\u001B[39;49m\u001B[43m)\u001B[49m\u001B[43m,\u001B[49m\u001B[43m \u001B[49m\u001B[43msteps\u001B[49m\u001B[38;5;241;43m=\u001B[39;49m\u001B[43m(\u001B[49m\u001B[38;5;241;43m1\u001B[39;49m\u001B[43m,\u001B[49m\u001B[43m \u001B[49m\u001B[38;5;241;43m1\u001B[39;49m\u001B[43m)\u001B[49m\u001B[43m,\u001B[49m\u001B[43m \u001B[49m\u001B[43mmessage_length_train\u001B[49m\u001B[38;5;241;43m=\u001B[39;49m\u001B[43mall_accuracies\u001B[49m\u001B[43m[\u001B[49m\u001B[38;5;124;43m'\u001B[39;49m\u001B[38;5;124;43mcu_zs_specific_train_message_length\u001B[39;49m\u001B[38;5;124;43m'\u001B[39;49m\u001B[43m]\u001B[49m\u001B[43m,\u001B[49m\u001B[43m \u001B[49m\n\u001B[1;32m      2\u001B[0m \u001B[43mtrain_only\u001B[49m\u001B[38;5;241;43m=\u001B[39;49m\u001B[38;5;28;43;01mTrue\u001B[39;49;00m\u001B[43m,\u001B[49m\u001B[43m \u001B[49m\u001B[43mmessage_length_plot\u001B[49m\u001B[38;5;241;43m=\u001B[39;49m\u001B[38;5;28;43;01mTrue\u001B[39;49;00m\u001B[43m,\u001B[49m\u001B[43m \u001B[49m\u001B[43mn_epochs\u001B[49m\u001B[38;5;241;43m=\u001B[39;49m\u001B[38;5;241;43m300\u001B[39;49m\u001B[43m,\u001B[49m\u001B[43m \u001B[49m\u001B[43mtitles\u001B[49m\u001B[38;5;241;43m=\u001B[39;49m\u001B[43m(\u001B[49m\u001B[38;5;124;43m'\u001B[39;49m\u001B[38;5;124;43mD(3,4)\u001B[39;49m\u001B[38;5;124;43m'\u001B[39;49m\u001B[43m,\u001B[49m\u001B[43m)\u001B[49m\u001B[43m,\u001B[49m\u001B[43m \u001B[49m\u001B[43mplot_indices\u001B[49m\u001B[38;5;241;43m=\u001B[39;49m\u001B[43m(\u001B[49m\u001B[38;5;241;43m1\u001B[39;49m\u001B[43m,\u001B[49m\u001B[43m)\u001B[49m\u001B[43m)\u001B[49m\n",
      "File \u001B[0;32m~/Projects/phdproject1/emergent-abstractions/utils/plot_helpers.py:356\u001B[0m, in \u001B[0;36mplot_training_trajectory\u001B[0;34m(results_train, results_val, message_length_train, message_length_val, steps, figsize, ylim, xlim, plot_indices, plot_shape, n_epochs, train_only, loss_plot, message_length_plot, titles)\u001B[0m\n\u001B[1;32m    354\u001B[0m             \u001B[38;5;28;01mif\u001B[39;00m \u001B[38;5;28mlen\u001B[39m(message_length_train[i][j]) \u001B[38;5;241m>\u001B[39m n_epochs:\n\u001B[1;32m    355\u001B[0m                 n_epochs \u001B[38;5;241m=\u001B[39m \u001B[38;5;28mlen\u001B[39m(message_length_train[i][j])\n\u001B[0;32m--> 356\u001B[0m     \u001B[43mplt\u001B[49m\u001B[38;5;241;43m.\u001B[39;49m\u001B[43mplot\u001B[49m\u001B[43m(\u001B[49m\u001B[38;5;28;43mrange\u001B[39;49m\u001B[43m(\u001B[49m\u001B[38;5;241;43m0\u001B[39;49m\u001B[43m,\u001B[49m\u001B[43m \u001B[49m\u001B[43mn_epochs\u001B[49m\u001B[43m,\u001B[49m\u001B[43m \u001B[49m\u001B[43msteps\u001B[49m\u001B[43m[\u001B[49m\u001B[38;5;241;43m0\u001B[39;49m\u001B[43m]\u001B[49m\u001B[43m)\u001B[49m\u001B[43m,\u001B[49m\u001B[43m \u001B[49m\u001B[43mnp\u001B[49m\u001B[38;5;241;43m.\u001B[39;49m\u001B[43mtranspose\u001B[49m\u001B[43m(\u001B[49m\u001B[43mmessage_length_train\u001B[49m\u001B[43m[\u001B[49m\u001B[43mi\u001B[49m\u001B[43m]\u001B[49m\u001B[43m)\u001B[49m\u001B[43m,\u001B[49m\u001B[43m \u001B[49m\u001B[43mcolor\u001B[49m\u001B[38;5;241;43m=\u001B[39;49m\u001B[38;5;124;43m'\u001B[39;49m\u001B[38;5;124;43mgreen\u001B[39;49m\u001B[38;5;124;43m'\u001B[39;49m\u001B[43m)\u001B[49m\n\u001B[1;32m    357\u001B[0m \u001B[38;5;28;01melse\u001B[39;00m:\n\u001B[1;32m    358\u001B[0m     plt\u001B[38;5;241m.\u001B[39mplot(\u001B[38;5;28mrange\u001B[39m(\u001B[38;5;241m0\u001B[39m, n_epochs, steps[\u001B[38;5;241m0\u001B[39m]), np\u001B[38;5;241m.\u001B[39mtranspose(results_train[i]), color\u001B[38;5;241m=\u001B[39m\u001B[38;5;124m'\u001B[39m\u001B[38;5;124mblue\u001B[39m\u001B[38;5;124m'\u001B[39m)\n",
      "File \u001B[0;32m~/opt/miniconda3/envs/egg/lib/python3.9/site-packages/matplotlib/pyplot.py:2740\u001B[0m, in \u001B[0;36mplot\u001B[0;34m(scalex, scaley, data, *args, **kwargs)\u001B[0m\n\u001B[1;32m   2738\u001B[0m \u001B[38;5;129m@_copy_docstring_and_deprecators\u001B[39m(Axes\u001B[38;5;241m.\u001B[39mplot)\n\u001B[1;32m   2739\u001B[0m \u001B[38;5;28;01mdef\u001B[39;00m \u001B[38;5;21mplot\u001B[39m(\u001B[38;5;241m*\u001B[39margs, scalex\u001B[38;5;241m=\u001B[39m\u001B[38;5;28;01mTrue\u001B[39;00m, scaley\u001B[38;5;241m=\u001B[39m\u001B[38;5;28;01mTrue\u001B[39;00m, data\u001B[38;5;241m=\u001B[39m\u001B[38;5;28;01mNone\u001B[39;00m, \u001B[38;5;241m*\u001B[39m\u001B[38;5;241m*\u001B[39mkwargs):\n\u001B[0;32m-> 2740\u001B[0m     \u001B[38;5;28;01mreturn\u001B[39;00m \u001B[43mgca\u001B[49m\u001B[43m(\u001B[49m\u001B[43m)\u001B[49m\u001B[38;5;241;43m.\u001B[39;49m\u001B[43mplot\u001B[49m\u001B[43m(\u001B[49m\n\u001B[1;32m   2741\u001B[0m \u001B[43m        \u001B[49m\u001B[38;5;241;43m*\u001B[39;49m\u001B[43margs\u001B[49m\u001B[43m,\u001B[49m\u001B[43m \u001B[49m\u001B[43mscalex\u001B[49m\u001B[38;5;241;43m=\u001B[39;49m\u001B[43mscalex\u001B[49m\u001B[43m,\u001B[49m\u001B[43m \u001B[49m\u001B[43mscaley\u001B[49m\u001B[38;5;241;43m=\u001B[39;49m\u001B[43mscaley\u001B[49m\u001B[43m,\u001B[49m\n\u001B[1;32m   2742\u001B[0m \u001B[43m        \u001B[49m\u001B[38;5;241;43m*\u001B[39;49m\u001B[38;5;241;43m*\u001B[39;49m\u001B[43m(\u001B[49m\u001B[43m{\u001B[49m\u001B[38;5;124;43m\"\u001B[39;49m\u001B[38;5;124;43mdata\u001B[39;49m\u001B[38;5;124;43m\"\u001B[39;49m\u001B[43m:\u001B[49m\u001B[43m \u001B[49m\u001B[43mdata\u001B[49m\u001B[43m}\u001B[49m\u001B[43m \u001B[49m\u001B[38;5;28;43;01mif\u001B[39;49;00m\u001B[43m \u001B[49m\u001B[43mdata\u001B[49m\u001B[43m \u001B[49m\u001B[38;5;129;43;01mis\u001B[39;49;00m\u001B[43m \u001B[49m\u001B[38;5;129;43;01mnot\u001B[39;49;00m\u001B[43m \u001B[49m\u001B[38;5;28;43;01mNone\u001B[39;49;00m\u001B[43m \u001B[49m\u001B[38;5;28;43;01melse\u001B[39;49;00m\u001B[43m \u001B[49m\u001B[43m{\u001B[49m\u001B[43m}\u001B[49m\u001B[43m)\u001B[49m\u001B[43m,\u001B[49m\u001B[43m \u001B[49m\u001B[38;5;241;43m*\u001B[39;49m\u001B[38;5;241;43m*\u001B[39;49m\u001B[43mkwargs\u001B[49m\u001B[43m)\u001B[49m\n",
      "File \u001B[0;32m~/opt/miniconda3/envs/egg/lib/python3.9/site-packages/matplotlib/axes/_axes.py:1662\u001B[0m, in \u001B[0;36mAxes.plot\u001B[0;34m(self, scalex, scaley, data, *args, **kwargs)\u001B[0m\n\u001B[1;32m   1419\u001B[0m \u001B[38;5;124;03m\"\"\"\u001B[39;00m\n\u001B[1;32m   1420\u001B[0m \u001B[38;5;124;03mPlot y versus x as lines and/or markers.\u001B[39;00m\n\u001B[1;32m   1421\u001B[0m \n\u001B[0;32m   (...)\u001B[0m\n\u001B[1;32m   1659\u001B[0m \u001B[38;5;124;03m(``'green'``) or hex strings (``'#008000'``).\u001B[39;00m\n\u001B[1;32m   1660\u001B[0m \u001B[38;5;124;03m\"\"\"\u001B[39;00m\n\u001B[1;32m   1661\u001B[0m kwargs \u001B[38;5;241m=\u001B[39m cbook\u001B[38;5;241m.\u001B[39mnormalize_kwargs(kwargs, mlines\u001B[38;5;241m.\u001B[39mLine2D)\n\u001B[0;32m-> 1662\u001B[0m lines \u001B[38;5;241m=\u001B[39m [\u001B[38;5;241m*\u001B[39m\u001B[38;5;28mself\u001B[39m\u001B[38;5;241m.\u001B[39m_get_lines(\u001B[38;5;241m*\u001B[39margs, data\u001B[38;5;241m=\u001B[39mdata, \u001B[38;5;241m*\u001B[39m\u001B[38;5;241m*\u001B[39mkwargs)]\n\u001B[1;32m   1663\u001B[0m \u001B[38;5;28;01mfor\u001B[39;00m line \u001B[38;5;129;01min\u001B[39;00m lines:\n\u001B[1;32m   1664\u001B[0m     \u001B[38;5;28mself\u001B[39m\u001B[38;5;241m.\u001B[39madd_line(line)\n",
      "File \u001B[0;32m~/opt/miniconda3/envs/egg/lib/python3.9/site-packages/matplotlib/axes/_base.py:311\u001B[0m, in \u001B[0;36m_process_plot_var_args.__call__\u001B[0;34m(self, data, *args, **kwargs)\u001B[0m\n\u001B[1;32m    309\u001B[0m     this \u001B[38;5;241m+\u001B[39m\u001B[38;5;241m=\u001B[39m args[\u001B[38;5;241m0\u001B[39m],\n\u001B[1;32m    310\u001B[0m     args \u001B[38;5;241m=\u001B[39m args[\u001B[38;5;241m1\u001B[39m:]\n\u001B[0;32m--> 311\u001B[0m \u001B[38;5;28;01myield from\u001B[39;00m \u001B[38;5;28;43mself\u001B[39;49m\u001B[38;5;241;43m.\u001B[39;49m\u001B[43m_plot_args\u001B[49m\u001B[43m(\u001B[49m\n\u001B[1;32m    312\u001B[0m \u001B[43m    \u001B[49m\u001B[43mthis\u001B[49m\u001B[43m,\u001B[49m\u001B[43m \u001B[49m\u001B[43mkwargs\u001B[49m\u001B[43m,\u001B[49m\u001B[43m \u001B[49m\u001B[43mambiguous_fmt_datakey\u001B[49m\u001B[38;5;241;43m=\u001B[39;49m\u001B[43mambiguous_fmt_datakey\u001B[49m\u001B[43m)\u001B[49m\n",
      "File \u001B[0;32m~/opt/miniconda3/envs/egg/lib/python3.9/site-packages/matplotlib/axes/_base.py:504\u001B[0m, in \u001B[0;36m_process_plot_var_args._plot_args\u001B[0;34m(self, tup, kwargs, return_kwargs, ambiguous_fmt_datakey)\u001B[0m\n\u001B[1;32m    501\u001B[0m     \u001B[38;5;28mself\u001B[39m\u001B[38;5;241m.\u001B[39maxes\u001B[38;5;241m.\u001B[39myaxis\u001B[38;5;241m.\u001B[39mupdate_units(y)\n\u001B[1;32m    503\u001B[0m \u001B[38;5;28;01mif\u001B[39;00m x\u001B[38;5;241m.\u001B[39mshape[\u001B[38;5;241m0\u001B[39m] \u001B[38;5;241m!=\u001B[39m y\u001B[38;5;241m.\u001B[39mshape[\u001B[38;5;241m0\u001B[39m]:\n\u001B[0;32m--> 504\u001B[0m     \u001B[38;5;28;01mraise\u001B[39;00m \u001B[38;5;167;01mValueError\u001B[39;00m(\u001B[38;5;124mf\u001B[39m\u001B[38;5;124m\"\u001B[39m\u001B[38;5;124mx and y must have same first dimension, but \u001B[39m\u001B[38;5;124m\"\u001B[39m\n\u001B[1;32m    505\u001B[0m                      \u001B[38;5;124mf\u001B[39m\u001B[38;5;124m\"\u001B[39m\u001B[38;5;124mhave shapes \u001B[39m\u001B[38;5;132;01m{\u001B[39;00mx\u001B[38;5;241m.\u001B[39mshape\u001B[38;5;132;01m}\u001B[39;00m\u001B[38;5;124m and \u001B[39m\u001B[38;5;132;01m{\u001B[39;00my\u001B[38;5;241m.\u001B[39mshape\u001B[38;5;132;01m}\u001B[39;00m\u001B[38;5;124m\"\u001B[39m)\n\u001B[1;32m    506\u001B[0m \u001B[38;5;28;01mif\u001B[39;00m x\u001B[38;5;241m.\u001B[39mndim \u001B[38;5;241m>\u001B[39m \u001B[38;5;241m2\u001B[39m \u001B[38;5;129;01mor\u001B[39;00m y\u001B[38;5;241m.\u001B[39mndim \u001B[38;5;241m>\u001B[39m \u001B[38;5;241m2\u001B[39m:\n\u001B[1;32m    507\u001B[0m     \u001B[38;5;28;01mraise\u001B[39;00m \u001B[38;5;167;01mValueError\u001B[39;00m(\u001B[38;5;124mf\u001B[39m\u001B[38;5;124m\"\u001B[39m\u001B[38;5;124mx and y can be no greater than 2D, but have \u001B[39m\u001B[38;5;124m\"\u001B[39m\n\u001B[1;32m    508\u001B[0m                      \u001B[38;5;124mf\u001B[39m\u001B[38;5;124m\"\u001B[39m\u001B[38;5;124mshapes \u001B[39m\u001B[38;5;132;01m{\u001B[39;00mx\u001B[38;5;241m.\u001B[39mshape\u001B[38;5;132;01m}\u001B[39;00m\u001B[38;5;124m and \u001B[39m\u001B[38;5;132;01m{\u001B[39;00my\u001B[38;5;241m.\u001B[39mshape\u001B[38;5;132;01m}\u001B[39;00m\u001B[38;5;124m\"\u001B[39m)\n",
      "\u001B[0;31mValueError\u001B[0m: x and y must have same first dimension, but have shapes (97,) and (5,)"
     ]
    },
    {
     "data": {
      "text/plain": "<Figure size 1000x700 with 1 Axes>",
      "image/png": "[encoded data removed]"
     },
     "metadata": {},
     "output_type": "display_data"
    }
   ],
   "source": [
    "plot_training_trajectory(results_train=all_accuracies['train_acc'], results_val=None, ylim=(0, 30), xlim=(0, 100), steps=(1, 1), message_length_train=all_accuracies['cu_zs_specific_train_message_length'], \n",
    "train_only=True, message_length_plot=True, n_epochs=300, titles=('D(3,4)',), plot_indices=(1,))"
   ],
   "metadata": {
    "collapsed": false,
    "ExecuteTime": {
     "end_time": "2024-06-11T15:42:45.294612Z",
     "start_time": "2024-06-11T15:42:42.942315Z"
    }
   }
  },
  {
   "attachments": {},
   "cell_type": "markdown",
   "metadata": {},
   "source": [
    "## final accuracies "
   ]
  },
  {
   "cell_type": "code",
   "execution_count": 8,
   "metadata": {
    "ExecuteTime": {
     "end_time": "2024-06-11T15:42:52.646903Z",
     "start_time": "2024-06-11T15:42:52.551606Z"
    }
   },
   "outputs": [],
   "source": [
    "all_accuracies = load_accuracies(paths, n_runs=5, val_steps=1, zero_shot=True, context_unaware=True, length_cost=True)\n",
    "#accuracies = [all_accuracies['train_acc'], all_accuracies['val_acc'], \n",
    "#              all_accuracies['zs_acc_objects'], all_accuracies['zs_acc_abstraction']]\n",
    "#accuracies = [all_accuracies['train_acc'], all_accuracies['val_acc'],\n",
    "#              all_accuracies['cu_train_acc'], all_accuracies['cu_val_acc']]\n",
    "zero_shot_accs_specific = all_accuracies['zs_specific_test_acc']\n",
    "zero_shot_accs_generic = all_accuracies['zs_generic_test_acc']\n",
    "cu_zs_accs_specific = all_accuracies['cu_zs_specific_test_acc']\n",
    "cu_zs_accs_generic = all_accuracies['cu_zs_generic_test_acc']"
   ]
  },
  {
   "cell_type": "code",
   "execution_count": 9,
   "metadata": {
    "ExecuteTime": {
     "end_time": "2024-06-11T15:42:55.670648Z",
     "start_time": "2024-06-11T15:42:55.630519Z"
    }
   },
   "outputs": [
    {
     "name": "stdout",
     "output_type": "stream",
     "text": [
      "(standard) Mean test accuracy over runs: 0.911 (0.015)\n",
      "(context-unaware) Mean test accuracy over runs: 0.928 (0.009)\n"
     ]
    }
   ],
   "source": [
    "for i, dataset in enumerate(zero_shot_accs_specific):\n",
    "    print(\"(standard) Mean test accuracy over runs: \" + str(round(dataset.mean(), 3)) + \" (\" + str(round(dataset.std(), 3)) + \")\")\n",
    "    print(\"(context-unaware) Mean test accuracy over runs: \" + str(round(cu_zs_accs_specific[i].mean(), 3)) + \" (\" + str(round(cu_zs_accs_specific[i].std(), 3)) + \")\")"
   ]
  },
  {
   "cell_type": "code",
   "execution_count": 10,
   "metadata": {
    "ExecuteTime": {
     "end_time": "2024-06-11T15:42:56.528050Z",
     "start_time": "2024-06-11T15:42:56.508728Z"
    }
   },
   "outputs": [
    {
     "name": "stdout",
     "output_type": "stream",
     "text": [
      "(standard) Mean test accuracy over runs: 0.732 (0.022)\n",
      "(context-unaware) Mean test accuracy over runs: 0.688 (0.042)\n"
     ]
    }
   ],
   "source": [
    "for i, dataset in enumerate(zero_shot_accs_generic):\n",
    "    print(\"(standard) Mean test accuracy over runs: \" + str(round(dataset.mean(), 3)) + \" (\" + str(round(dataset.std(), 3)) + \")\")\n",
    "    print(\"(context-unaware) Mean test accuracy over runs: \" + str(round(cu_zs_accs_generic[i].mean(), 3)) + \" (\" + str(round(cu_zs_accs_generic[i].std(), 3)) + \")\")"
   ]
  },
  {
   "cell_type": "code",
   "execution_count": 11,
   "metadata": {
    "ExecuteTime": {
     "end_time": "2024-06-11T15:42:58.099267Z",
     "start_time": "2024-06-11T15:42:57.615903Z"
    }
   },
   "outputs": [
    {
     "ename": "IndexError",
     "evalue": "index 1 is out of bounds for axis 0 with size 1",
     "output_type": "error",
     "traceback": [
      "\u001B[0;31m---------------------------------------------------------------------------\u001B[0m",
      "\u001B[0;31mIndexError\u001B[0m                                Traceback (most recent call last)",
      "Cell \u001B[0;32mIn [11], line 3\u001B[0m\n\u001B[1;32m      1\u001B[0m accuracies \u001B[38;5;241m=\u001B[39m [all_accuracies[\u001B[38;5;124m'\u001B[39m\u001B[38;5;124mzs_specific_test_acc\u001B[39m\u001B[38;5;124m'\u001B[39m], all_accuracies[\u001B[38;5;124m'\u001B[39m\u001B[38;5;124mzs_generic_test_acc\u001B[39m\u001B[38;5;124m'\u001B[39m],\n\u001B[1;32m      2\u001B[0m               all_accuracies[\u001B[38;5;124m'\u001B[39m\u001B[38;5;124mcu_zs_specific_test_acc\u001B[39m\u001B[38;5;124m'\u001B[39m], all_accuracies[\u001B[38;5;124m'\u001B[39m\u001B[38;5;124mcu_zs_generic_test_acc\u001B[39m\u001B[38;5;124m'\u001B[39m]]\n\u001B[0;32m----> 3\u001B[0m \u001B[43mplot_heatmap\u001B[49m\u001B[43m(\u001B[49m\u001B[43maccuracies\u001B[49m\u001B[43m,\u001B[49m\u001B[43m \u001B[49m\u001B[38;5;124;43m'\u001B[39;49m\u001B[38;5;124;43mmean\u001B[39;49m\u001B[38;5;124;43m'\u001B[39;49m\u001B[43m,\u001B[49m\u001B[43m \u001B[49m\u001B[43mplot_dims\u001B[49m\u001B[38;5;241;43m=\u001B[39;49m\u001B[43m(\u001B[49m\u001B[38;5;241;43m1\u001B[39;49m\u001B[43m,\u001B[49m\u001B[38;5;241;43m4\u001B[39;49m\u001B[43m)\u001B[49m\u001B[43m,\u001B[49m\u001B[43m \u001B[49m\u001B[43mylims\u001B[49m\u001B[38;5;241;43m=\u001B[39;49m\u001B[43m(\u001B[49m\u001B[38;5;241;43m0.4\u001B[39;49m\u001B[43m,\u001B[49m\u001B[43m \u001B[49m\u001B[38;5;241;43m1.0\u001B[39;49m\u001B[43m)\u001B[49m\u001B[43m,\u001B[49m\u001B[43m \u001B[49m\u001B[43mfigsize\u001B[49m\u001B[38;5;241;43m=\u001B[39;49m\u001B[43m(\u001B[49m\u001B[38;5;241;43m13\u001B[39;49m\u001B[43m,\u001B[49m\u001B[43m \u001B[49m\u001B[38;5;241;43m3.5\u001B[39;49m\u001B[43m)\u001B[49m\u001B[43m,\u001B[49m\u001B[43m \u001B[49m\u001B[43msuptitle\u001B[49m\u001B[38;5;241;43m=\u001B[39;49m\u001B[38;5;124;43m'\u001B[39;49m\u001B[38;5;124;43mzero-shot test accuracies\u001B[39;49m\u001B[38;5;124;43m'\u001B[39;49m\u001B[43m,\u001B[49m\u001B[43m \u001B[49m\n\u001B[1;32m      4\u001B[0m \u001B[43m             \u001B[49m\u001B[43mtitles\u001B[49m\u001B[38;5;241;43m=\u001B[39;49m\u001B[43m(\u001B[49m\u001B[38;5;124;43m'\u001B[39;49m\u001B[38;5;124;43mcontext-aware \u001B[39;49m\u001B[38;5;130;43;01m\\n\u001B[39;49;00m\u001B[38;5;124;43mspecific\u001B[39;49m\u001B[38;5;124;43m'\u001B[39;49m\u001B[43m,\u001B[49m\u001B[43m \u001B[49m\u001B[38;5;124;43m'\u001B[39;49m\u001B[38;5;124;43mcontext-aware \u001B[39;49m\u001B[38;5;130;43;01m\\n\u001B[39;49;00m\u001B[38;5;124;43mgeneric\u001B[39;49m\u001B[38;5;124;43m'\u001B[39;49m\u001B[43m,\u001B[49m\u001B[43m \u001B[49m\u001B[38;5;124;43m'\u001B[39;49m\u001B[38;5;124;43mcontext-unaware \u001B[39;49m\u001B[38;5;130;43;01m\\n\u001B[39;49;00m\u001B[38;5;124;43mspecific\u001B[39;49m\u001B[38;5;124;43m'\u001B[39;49m\u001B[43m,\u001B[49m\u001B[43m \u001B[49m\u001B[38;5;124;43m'\u001B[39;49m\u001B[38;5;124;43mcontext-unaware \u001B[39;49m\u001B[38;5;130;43;01m\\n\u001B[39;49;00m\u001B[38;5;124;43mgeneric\u001B[39;49m\u001B[38;5;124;43m'\u001B[39;49m\u001B[43m)\u001B[49m\u001B[43m,\u001B[49m\n\u001B[1;32m      5\u001B[0m \u001B[43m             \u001B[49m\u001B[43mfontsize\u001B[49m\u001B[38;5;241;43m=\u001B[39;49m\u001B[38;5;241;43m17\u001B[39;49m\u001B[43m)\u001B[49m\n",
      "File \u001B[0;32m~/Projects/phdproject1/emergent-abstractions/utils/plot_helpers.py:50\u001B[0m, in \u001B[0;36mplot_heatmap\u001B[0;34m(result_list, mode, plot_dims, figsize, ylims, titles, suptitle, suptitle_position, different_ylims, n_runs, matrix_indices, fontsize)\u001B[0m\n\u001B[1;32m     47\u001B[0m     values \u001B[38;5;241m=\u001B[39m np\u001B[38;5;241m.\u001B[39mnanmedian(results, axis\u001B[38;5;241m=\u001B[39m\u001B[38;5;241m-\u001B[39m\u001B[38;5;241m1\u001B[39m)\n\u001B[1;32m     49\u001B[0m \u001B[38;5;28;01mfor\u001B[39;00m p, pos \u001B[38;5;129;01min\u001B[39;00m \u001B[38;5;28menumerate\u001B[39m(matrix_indices):\n\u001B[0;32m---> 50\u001B[0m     heatmap[pos] \u001B[38;5;241m=\u001B[39m \u001B[43mvalues\u001B[49m\u001B[43m[\u001B[49m\u001B[43mp\u001B[49m\u001B[43m]\u001B[49m\n\u001B[1;32m     52\u001B[0m im \u001B[38;5;241m=\u001B[39m plt\u001B[38;5;241m.\u001B[39mimshow(heatmap, vmin\u001B[38;5;241m=\u001B[39my_lim[\u001B[38;5;241m0\u001B[39m], vmax\u001B[38;5;241m=\u001B[39my_lim[\u001B[38;5;241m1\u001B[39m])\n\u001B[1;32m     53\u001B[0m plt\u001B[38;5;241m.\u001B[39mtitle(titles[i], fontsize\u001B[38;5;241m=\u001B[39mfontsize)\n",
      "\u001B[0;31mIndexError\u001B[0m: index 1 is out of bounds for axis 0 with size 1"
     ]
    },
    {
     "data": {
      "text/plain": "<Figure size 1300x350 with 1 Axes>",
      "image/png": "[encoded data removed]"
     },
     "metadata": {},
     "output_type": "display_data"
    }
   ],
   "source": [
    "accuracies = [all_accuracies['zs_specific_test_acc'], all_accuracies['zs_generic_test_acc'],\n",
    "              all_accuracies['cu_zs_specific_test_acc'], all_accuracies['cu_zs_generic_test_acc']]\n",
    "plot_heatmap(accuracies, 'mean', plot_dims=(1,4), ylims=(0.4, 1.0), figsize=(13, 3.5), suptitle='zero-shot test accuracies', \n",
    "             titles=('context-aware \\nspecific', 'context-aware \\ngeneric', 'context-unaware \\nspecific', 'context-unaware \\ngeneric'),\n",
    "             fontsize=17)"
   ]
  },
  {
   "cell_type": "code",
   "execution_count": 5,
   "outputs": [],
   "source": [
    "zs_specific_val_ml = all_accuracies['zs_specific_val_message_length']\n",
    "zs_generic_val_ml = all_accuracies['zs_generic_val_message_length']\n",
    "cu_zs_specific_val_ml = all_accuracies['cu_zs_specific_val_message_length']\n",
    "cu_zs_generic_val_ml = all_accuracies['cu_zs_generic_val_message_length']"
   ],
   "metadata": {
    "collapsed": false,
    "ExecuteTime": {
     "end_time": "2024-06-11T15:50:03.073802Z",
     "start_time": "2024-06-11T15:50:03.063414Z"
    }
   }
  },
  {
   "cell_type": "code",
   "execution_count": 8,
   "outputs": [
    {
     "data": {
      "text/plain": "array([[(1.0, 1.8948863744735718, 6.252840995788574, 9.637784004211426, 4.4758524894714355, 3.7428977489471436, 4.4303975105285645, 5.6875, 6.517045497894287, 5.6789774894714355, 6.592329502105713, 6.313920497894287, 6.228693008422852, 5.998579502105713, 6.436079502105713, 6.478693008422852, 6.377840995788574, 6.169034004211426, 6.401988506317139, 6.951704502105713, 6.9914774894714355, 7.029829502105713, 7.019886493682861, 7.181818008422852, 7.471590995788574, 7.25, 7.25, 7.495738506317139, 7.5085225105285645, 7.795454502105713, 7.907670497894287, 7.666193008422852, 8.011363983154297, 7.619318008422852, 7.552556991577148, 8.259943008422852, 7.8664774894714355, 8.335227012634277, 7.8196024894714355, 7.748579502105713, 7.044034004211426, 7.887784004211426, 7.933238506317139, 7.487215995788574, 7.8196024894714355, 7.561079502105713, 7.453125, 7.767045497894287, 7.448863506317139, 7.734375, 7.440340995788574, 7.811079502105713, 7.4772725105285645, 8.247159004211426, 7.778409004211426, 8.258522987365723, 7.765625, 7.889204502105713, 7.392045497894287, 7.734375, 7.7571024894714355, 8.142045021057129, 7.8522725105285645, 7.294034004211426, 7.7727274894714355, 8.041193008422852, 8.058238983154297, 7.846590995788574, 7.856534004211426, 7.684659004211426, 7.396306991577148, 8.174715995788574, 8.274147987365723, 8.015625, 8.174715995788574, 7.9375, 8.110795021057129, 8.350852012634277, 7.839488506317139, 8.014204978942871, 8.255681991577148, 7.950284004211426, 7.9460225105285645, 7.5071024894714355, 7.048295497894287),\n        (1.0, 2.046875, 11.201704978942871, 5.7897725105285645, 6.073863506317139, 5.2897725105285645, 7.474431991577148, 7.213068008422852, 10.963068008422852, 7.552556991577148, 7.3522725105285645, 8.079545021057129, 8.329545021057129, 7.299715995788574, 7.526988506317139, 7.237215995788574, 7.919034004211426, 7.375, 6.967329502105713, 6.984375, 6.794034004211426, 7.1008524894714355, 6.390625, 6.950284004211426, 6.889204502105713, 7.011363506317139, 7.762784004211426, 6.816761493682861, 7.607954502105713, 6.623579502105713, 7.338068008422852, 7.213068008422852, 7.920454502105713, 7.4460225105285645, 7.985795497894287, 7.313920497894287, 7.7102274894714355, 7.9772725105285645, 7.657670497894287, 7.623579502105713, 7.6178975105285645, 7.634943008422852, 7.973011493682861, 7.5696024894714355, 7.911931991577148, 7.536931991577148, 7.848011493682861, 7.853693008422852, 7.791193008422852, 7.9289774894714355, 7.454545497894287, 8.069602012634277, 7.855113506317139, 7.542613506317139, 7.782670497894287, 7.565340995788574, 7.575284004211426, 7.144886493682861, 7.176136493682861, 6.863636493682861, 7.5539774894714355, 8.573863983154297, 8.269886016845703, 7.8039774894714355, 7.886363506317139, 7.796875, 7.639204502105713, 7.796875, 8.034090995788574, 7.723011493682861, 7.794034004211426, 7.342329502105713, 7.1875, 7.1335225105285645, 7.0866475105285645, 6.862215995788574, 6.951704502105713, 6.967329502105713, 6.806818008422852, 7.028409004211426, 7.105113506317139, 7.776988506317139, 7.826704502105713, 6.84375, 6.661931991577148, 6.896306991577148, 6.909090995788574, 7.390625, 8.002840995788574, 7.455965995788574),\n        (1.0, 1.798295497894287, 4.426136493682861, 4.301136493682861, 8.875, 5.565340995788574, 5.177556991577148, 3.6960227489471436, 3.7741477489471436, 4.174715995788574, 4.012784004211426, 4.639204502105713, 4.340909004211426, 5.4289774894714355, 5.487215995788574, 6.259943008422852, 6.161931991577148, 7.1164774894714355, 6.525568008422852, 5.546875, 6.360795497894287, 6.299715995788574, 6.065340995788574, 6.224431991577148, 6.2116475105285645, 6.494318008422852, 6.421875, 6.316761493682861, 6.082386493682861, 6.6477274894714355, 6.3210225105285645, 6.223011493682861, 7.345170497894287, 6.670454502105713, 7.988636493682861, 6.839488506317139, 6.630681991577148, 6.636363506317139, 6.623579502105713, 7.610795497894287, 7.4616475105285645, 7.323863506317139, 7.357954502105713, 7.745738506317139, 7.088068008422852, 7.1164774894714355, 6.896306991577148, 7.3664774894714355, 7.965909004211426, 7.703125, 7.386363506317139, 7.636363506317139, 7.161931991577148, 6.985795497894287, 7.2741475105285645, 6.815340995788574, 7.387784004211426, 7.151988506317139, 8.525568008422852, 7.0696024894714355, 7.1178975105285645, 7.3210225105285645, 7.079545497894287, 7.21875, 7.065340995788574, 6.876420497894287, 6.556818008422852, 6.6647725105285645, 6.639204502105713, 6.551136493682861, 10.336647987365723, 8.173295021057129, 8.954545021057129, 7.454545497894287, 7.1875, 6.970170497894287, 7.240056991577148, 6.924715995788574, 8.438920021057129, 7.615056991577148, 7.2258524894714355, 6.894886493682861, 6.720170497894287, 6.644886493682861, 6.705965995788574, 6.588068008422852, 6.941761493682861, 6.791193008422852, 6.795454502105713, 7.1164774894714355, 6.734375, 7.613636493682861, 6.887784004211426),\n        (1.0, 1.8977272510528564, 4.501420497894287, 6.313920497894287, 3.3664772510528564, 3.1022727489471436, 2.90625, 3.5582387447357178, 4.396306991577148, 5.059659004211426, 5.0397725105285645, 4.478693008422852, 4.572443008422852, 4.681818008422852, 4.84375, 4.873579502105713, 4.6633524894714355, 5.5397725105285645, 5.191761493682861, 5.375, 5.759943008422852, 5.745738506317139, 6.2102274894714355, 6.643465995788574, 6.167613506317139, 6.528409004211426, 6.036931991577148, 5.920454502105713, 5.947443008422852, 6.1803975105285645, 6.004261493682861, 6.387784004211426, 6.737215995788574, 6.315340995788574, 6.490056991577148, 6.3991475105285645, 7.011363506317139, 7.674715995788574, 6.440340995788574, 6.5710225105285645, 7.1022725105285645, 7.705965995788574, 7.198863506317139, 7.544034004211426, 7.529829502105713, 7.873579502105713, 7.322443008422852, 7.440340995788574, 7.401988506317139, 7.40625, 7.526988506317139, 7.833806991577148, 7.738636493682861, 7.8125, 7.65625, 8.605113983154297, 9.061079978942871, 7.005681991577148, 7.802556991577148, 7.994318008422852, 7.4446024894714355, 7.676136493682861, 7.955965995788574, 8.257102012634277, 8.095170021057129, 8.25, 8.589488983154297, 8.237215995788574, 8.213068008422852, 7.5553975105285645, 8.242897987365723, 7.948863506317139, 8.634943008422852, 7.933238506317139, 8.407670021057129, 8.497159004211426, 8.490056991577148, 8.717329978942871, 8.4375, 8.282670021057129, 9.163352012634277, 8.109375, 9.194602012634277, 9.147727012634277, 9.399147987365723, 9.198863983154297, 9.299715995788574, 9.382102012634277, 9.485795021057129, 9.214488983154297, 8.465909004211426, 9.018465995788574, 9.059659004211426, 9.177556991577148, 9.338068008422852, 9.401988983154297, 9.166193008422852, 9.09375, 8.988636016845703, 9.086647987365723, 9.46875, 9.714488983154297, 9.048295021057129, 9.5, 12.842329978942871, 14.167613983154297),\n        (1.0, 1.0, 1.0, 14.616477012634277, 15.458806991577148, 8.375, 8.231534004211426, 9.4375, 4.151988506317139, 3.139204502105713, 3.3650567531585693, 5.666193008422852, 4.784090995788574, 4.267045497894287, 4.339488506317139, 4.400568008422852, 4.356534004211426, 4.1178975105285645, 4.3821024894714355, 4.315340995788574, 4.840909004211426, 4.985795497894287, 4.8991475105285645, 4.170454502105713, 4.65625, 4.936079502105713, 5.532670497894287, 5.278409004211426, 5.546875, 5.387784004211426, 5.313920497894287, 5.285511493682861, 5.340909004211426, 5.326704502105713, 5.5553975105285645, 5.080965995788574, 5.390625, 5.188920497894287, 5.214488506317139, 5.5383524894714355, 5.220170497894287, 5.1875, 4.982954502105713, 5.346590995788574, 5.526988506317139, 5.619318008422852, 5.877840995788574, 5.478693008422852, 5.357954502105713, 5.3991475105285645, 5.4772725105285645, 5.345170497894287, 5.463068008422852, 5.379261493682861, 5.536931991577148, 5.845170497894287, 5.542613506317139, 5.890625, 5.637784004211426, 5.434659004211426, 5.494318008422852, 5.467329502105713, 5.563920497894287, 5.7272725105285645, 5.5397725105285645, 5.497159004211426, 5.552556991577148, 5.998579502105713, 5.794034004211426, 5.53125, 5.707386493682861, 5.681818008422852, 5.529829502105713, 5.450284004211426, 5.6022725105285645, 5.639204502105713, 5.598011493682861, 5.534090995788574, 5.4289774894714355, 5.375, 5.495738506317139, 5.474431991577148, 5.698863506317139, 5.556818008422852, 5.53125, 5.511363506317139, 5.559659004211426, 5.811079502105713, 5.684659004211426, 5.6477274894714355, 5.8366475105285645)]],\n      dtype=object)"
     },
     "execution_count": 8,
     "metadata": {},
     "output_type": "execute_result"
    }
   ],
   "source": [
    "zs_generic_val_ml"
   ],
   "metadata": {
    "collapsed": false,
    "ExecuteTime": {
     "end_time": "2024-06-11T15:50:19.955806Z",
     "start_time": "2024-06-11T15:50:19.930004Z"
    }
   }
  },
  {
   "cell_type": "code",
   "execution_count": 12,
   "outputs": [
    {
     "ename": "TypeError",
     "evalue": "type numpy.ndarray doesn't define __round__ method",
     "output_type": "error",
     "traceback": [
      "\u001B[0;31m---------------------------------------------------------------------------\u001B[0m",
      "\u001B[0;31mTypeError\u001B[0m                                 Traceback (most recent call last)",
      "Cell \u001B[0;32mIn [12], line 2\u001B[0m\n\u001B[1;32m      1\u001B[0m \u001B[38;5;28;01mfor\u001B[39;00m i, dataset \u001B[38;5;129;01min\u001B[39;00m \u001B[38;5;28menumerate\u001B[39m(zs_generic_val_ml):\n\u001B[0;32m----> 2\u001B[0m     \u001B[38;5;28mprint\u001B[39m(\u001B[38;5;124m\"\u001B[39m\u001B[38;5;124m(standard) Mean test accuracy over runs: \u001B[39m\u001B[38;5;124m\"\u001B[39m \u001B[38;5;241m+\u001B[39m \u001B[38;5;28mstr\u001B[39m(\u001B[38;5;28;43mround\u001B[39;49m\u001B[43m(\u001B[49m\u001B[43mdataset\u001B[49m\u001B[38;5;241;43m.\u001B[39;49m\u001B[43mmean\u001B[49m\u001B[43m(\u001B[49m\u001B[43m)\u001B[49m\u001B[43m,\u001B[49m\u001B[43m \u001B[49m\u001B[38;5;241;43m3\u001B[39;49m\u001B[43m)\u001B[49m) \u001B[38;5;241m+\u001B[39m \u001B[38;5;124m\"\u001B[39m\u001B[38;5;124m (\u001B[39m\u001B[38;5;124m\"\u001B[39m \u001B[38;5;241m+\u001B[39m \u001B[38;5;28mstr\u001B[39m(\u001B[38;5;28mround\u001B[39m(dataset\u001B[38;5;241m.\u001B[39mstd(), \u001B[38;5;241m3\u001B[39m)) \u001B[38;5;241m+\u001B[39m \u001B[38;5;124m\"\u001B[39m\u001B[38;5;124m)\u001B[39m\u001B[38;5;124m\"\u001B[39m)\n\u001B[1;32m      3\u001B[0m     \u001B[38;5;28mprint\u001B[39m(\u001B[38;5;124m\"\u001B[39m\u001B[38;5;124m(context-unaware) Mean test accuracy over runs: \u001B[39m\u001B[38;5;124m\"\u001B[39m \u001B[38;5;241m+\u001B[39m \u001B[38;5;28mstr\u001B[39m(\u001B[38;5;28mround\u001B[39m(zs_generic_val_ml[i]\u001B[38;5;241m.\u001B[39mmean(), \u001B[38;5;241m3\u001B[39m)) \u001B[38;5;241m+\u001B[39m \u001B[38;5;124m\"\u001B[39m\u001B[38;5;124m (\u001B[39m\u001B[38;5;124m\"\u001B[39m \u001B[38;5;241m+\u001B[39m \u001B[38;5;28mstr\u001B[39m(\u001B[38;5;28mround\u001B[39m(zs_generic_val_ml[i]\u001B[38;5;241m.\u001B[39mstd(), \u001B[38;5;241m3\u001B[39m)) \u001B[38;5;241m+\u001B[39m \u001B[38;5;124m\"\u001B[39m\u001B[38;5;124m)\u001B[39m\u001B[38;5;124m\"\u001B[39m)\n",
      "\u001B[0;31mTypeError\u001B[0m: type numpy.ndarray doesn't define __round__ method"
     ]
    }
   ],
   "source": [
    "for i, dataset in enumerate(zs_generic_val_ml):\n",
    "    print(\"(standard) Mean test accuracy over runs: \" + str(round(dataset.mean(), 3)) + \" (\" + str(round(dataset.std(), 3)) + \")\")\n",
    "    print(\"(context-unaware) Mean test accuracy over runs: \" + str(round(zs_generic_val_ml[i].mean(), 3)) + \" (\" + str(round(zs_generic_val_ml[i].std(), 3)) + \")\")"
   ],
   "metadata": {
    "collapsed": false,
    "ExecuteTime": {
     "end_time": "2024-06-11T15:50:55.032800Z",
     "start_time": "2024-06-11T15:50:54.983887Z"
    }
   }
  },
  {
   "cell_type": "markdown",
   "source": [
    "### See which messages are produced for which concepts"
   ],
   "metadata": {
    "collapsed": false
   }
  },
  {
   "cell_type": "code",
   "execution_count": 69,
   "outputs": [],
   "source": [
    "setting = 'length_cost/context_aware/zero_shot/specific' \n",
    "# 63 generic, 95 specific context unaware\n",
    "n_epochs = 95 "
   ],
   "metadata": {
    "collapsed": false,
    "ExecuteTime": {
     "end_time": "2024-06-11T15:27:50.133383Z",
     "start_time": "2024-06-11T15:27:50.094960Z"
    }
   }
  },
  {
   "cell_type": "code",
   "execution_count": 68,
   "outputs": [
    {
     "name": "stdout",
     "output_type": "stream",
     "text": [
      "results/(3,4)_game_size_10_vsf_3/length_cost/context_unaware/zero_shot/specific/0/interactions/train/epoch_95/interaction_gpu0\n",
      "torch.Size([810, 20, 12])\n",
      "1 [1] [0]\n",
      "saved analysis/quali_(3,4)_length_cost/context_unaware/zero_shot/specific_[2. 0. 1.],[0. 1. 0.]all.csv\n"
     ]
    }
   ],
   "source": [
    "# go through all datasets\n",
    "for i, d in enumerate(datasets):\n",
    "    # select first run\n",
    "    path_to_run = paths[i] + '/' + str(setting) + '/' + str(0) + '/'\n",
    "    path_to_interaction_train = (path_to_run + 'interactions/train/epoch_' + str(n_epochs) + '/interaction_gpu0')\n",
    "    path_to_interaction_val = (path_to_run + 'interactions/validation/epoch_' + str(n_epochs) + '/interaction_gpu0')\n",
    "    interaction = torch.load(path_to_interaction_train)\n",
    "    print(path_to_interaction_train)\n",
    "\n",
    "    messages = interaction.message.argmax(dim=-1)\n",
    "    messages = [msg.tolist() for msg in messages]\n",
    "    sender_input = interaction.sender_input\n",
    "    print(sender_input.shape)\n",
    "    n_targets = int(sender_input.shape[1] / 2)\n",
    "    # get target objects and fixed vectors to re-construct concepts\n",
    "    target_objects = sender_input[:, :n_targets]\n",
    "    target_objects = k_hot_to_attributes(target_objects, n_values[i])\n",
    "    # concepts are defined by a list of target objects (here one sampled target object) and a fixed vector\n",
    "    (objects, fixed) = retrieve_concepts_sampling(target_objects, all_targets=True)\n",
    "    concepts = list(zip(objects, fixed))\n",
    "\n",
    "    # get distractor objects to re-construct context conditions\n",
    "    distractor_objects = sender_input[:, n_targets:]\n",
    "    distractor_objects = k_hot_to_attributes(distractor_objects, n_values[i])\n",
    "    context_conds = retrieve_context_condition(objects, fixed, distractor_objects)\n",
    "\n",
    "    # get random qualitative samples\n",
    "    #fixed_index = random.randint(0, n_attributes[i]-1) # define a fixed index for the concept\n",
    "    #n_fixed = random.randint(1, n_attributes[i]) # how many fixed attributes?\n",
    "    n_fixed = 1\n",
    "    fixed_indices = random.sample(range(0, n_attributes[i]), k=n_fixed) # select which attributes are fixed\n",
    "    #fixed_indices = [0, 1, 2, 3]\n",
    "    fixed_value = random.randint(0, n_values[i]-1) # define a fixed value for this index\n",
    "    fixed_values = random.choices(range(0, n_values[i]), k=n_fixed)\n",
    "    #fixed_values = [0, 0, 0, 3]\n",
    "    print(n_fixed, fixed_indices, fixed_values)\n",
    "    #index_threshold = 20000 # optional: define some index threshold to make sure that examples are not taken from the beginning of training\n",
    "    # TODO: adapt this loop such that multiple indices can be fixed\n",
    "    all_for_this_concept = []\n",
    "    for idx, (t_objects, t_fixed) in enumerate(concepts):\n",
    "        #if sum(t_fixed) == 1 and t_fixed[fixed_index] == 1:# and idx > index_threshold:\n",
    "        if sum(t_fixed) == n_fixed and all(t_fixed[fixed_index] == 1 for fixed_index in fixed_indices):\n",
    "            for t_object in t_objects:\n",
    "                if all(t_object[fixed_index] == fixed_values[j] for j, fixed_index in enumerate(fixed_indices)):\n",
    "                    all_for_this_concept.append((idx, t_object, t_fixed, context_conds[idx], messages[idx]))\n",
    "                    fixed = t_fixed\n",
    "    if len(all_for_this_concept) > 0:\n",
    "        #sample = random.sample(all_for_this_concept, 20)\n",
    "        sample = all_for_this_concept\n",
    "        column_names = ['game_nr', 'object', 'fixed indices', 'context condition', 'message']\n",
    "        df = pd.DataFrame(sample, columns=column_names)\n",
    "        df.to_csv(\n",
    "            'analysis/quali_' + str(d) + '_' + str(setting) + '_' + str(sample[0][1]) + ',' + str(fixed) + 'all.csv',\n",
    "            index=False)\n",
    "        print('saved ' + 'analysis/quali_' + str(d) + '_' + str(setting) + '_' + str(sample[0][1]) + ',' + str(\n",
    "            fixed) + 'all.csv')\n",
    "    else:\n",
    "        raise ValueError(\"sample for dataset \" + str(d) + \" could not be generated\")"
   ],
   "metadata": {
    "collapsed": false,
    "ExecuteTime": {
     "end_time": "2024-06-11T15:17:52.370039Z",
     "start_time": "2024-06-11T15:17:52.294595Z"
    }
   }
  }
 ],
 "metadata": {
  "kernelspec": {
   "display_name": "egg",
   "language": "python",
   "name": "python3"
  },
  "language_info": {
   "codemirror_mode": {
    "name": "ipython",
    "version": 3
   },
   "file_extension": ".py",
   "mimetype": "text/x-python",
   "name": "python",
   "nbconvert_exporter": "python",
   "pygments_lexer": "ipython3",
   "version": "3.9.15"
  },
  "vscode": {
   "interpreter": {
    "hash": "33315512203c6451c0a69878c82cfb8f373990930a82d73b6ace859088458855"
   }
  }
 },
 "nbformat": 4,
 "nbformat_minor": 4
}
