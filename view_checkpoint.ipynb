{
 "cells": [
  {
   "cell_type": "code",
   "execution_count": 1,
   "metadata": {
    "ExecuteTime": {
     "end_time": "2024-07-15T07:07:56.351576Z",
     "start_time": "2024-07-15T07:07:55.497125Z"
    }
   },
   "outputs": [],
   "source": [
    "from utils.load_results import *\n",
    "from utils.plot_helpers import *\n",
    "\n",
    "import pandas as pd\n",
    "import seaborn as sns\n",
    "from matplotlib import pyplot as plt\n",
    "import torch\n",
    "from utils.analysis_from_interaction import *\n",
    "from language_analysis_local import TopographicSimilarityConceptLevel, encode_target_concepts_for_topsim\n",
    "from egg.core.callbacks import Checkpoint, CheckpointSaver\n",
    "from egg import core\n",
    "from archs import Sender, Receiver\n",
    "import torch.nn as nn\n",
    "import dataset"
   ]
  },
  {
   "cell_type": "code",
   "execution_count": 2,
   "outputs": [],
   "source": [
    "# For convenince and reproducibility, we set some EGG-level command line arguments here\n",
    "opts = core.init(params=['--random_seed=7', # will initialize numpy, torch, and python RNGs\n",
    "                         '--lr=1e-3',   # sets the learning rate for the selected optimizer \n",
    "                         '--batch_size=32',\n",
    "                         '--optimizer=adam'])\n",
    "\n",
    "device = torch.device(\"cuda\" if torch.cuda.is_available() else \"cpu\")\n",
    "PATH = 'results/(5,4)_game_size_10_vsf_3/standard/zero_shot/specific/0/final.tar'"
   ],
   "metadata": {
    "collapsed": false,
    "ExecuteTime": {
     "end_time": "2024-07-15T07:07:56.357476Z",
     "start_time": "2024-07-15T07:07:56.353123Z"
    }
   }
  },
  {
   "cell_type": "code",
   "execution_count": 3,
   "metadata": {
    "ExecuteTime": {
     "end_time": "2024-07-15T07:07:58.623497Z",
     "start_time": "2024-07-15T07:07:58.609271Z"
    }
   },
   "outputs": [],
   "source": [
    "checkpoint = torch.load('results/(5,4)_game_size_10_vsf_3/standard/zero_shot/specific/0/final.tar', map_location=torch.device('cpu'))"
   ]
  },
  {
   "cell_type": "code",
   "execution_count": 4,
   "metadata": {
    "ExecuteTime": {
     "end_time": "2024-07-15T07:07:59.706512Z",
     "start_time": "2024-07-15T07:07:59.695632Z"
    }
   },
   "outputs": [
    {
     "data": {
      "text/plain": "odict_keys(['sender.sos_embedding', 'sender.agent.fc1.weight', 'sender.agent.fc1.bias', 'sender.agent.fc2.weight', 'sender.agent.fc2.bias', 'sender.agent.fc3.weight', 'sender.agent.fc3.bias', 'sender.hidden_to_output.weight', 'sender.hidden_to_output.bias', 'sender.embedding.weight', 'sender.embedding.bias', 'sender.cell.weight_ih', 'sender.cell.weight_hh', 'sender.cell.bias_ih', 'sender.cell.bias_hh', 'receiver.agent.fc1.weight', 'receiver.agent.fc1.bias', 'receiver.cell.weight_ih', 'receiver.cell.weight_hh', 'receiver.cell.bias_ih', 'receiver.cell.bias_hh', 'receiver.embedding.weight', 'receiver.embedding.bias'])"
     },
     "execution_count": 4,
     "metadata": {},
     "output_type": "execute_result"
    }
   ],
   "source": [
    "checkpoint.model_state_dict.keys()"
   ]
  },
  {
   "cell_type": "code",
   "execution_count": 5,
   "metadata": {
    "ExecuteTime": {
     "end_time": "2024-07-15T07:08:00.790992Z",
     "start_time": "2024-07-15T07:08:00.774928Z"
    }
   },
   "outputs": [
    {
     "data": {
      "text/plain": "tensor([[-0.3765, -0.1887, -0.4408,  ..., -0.5134,  0.3979,  0.1921],\n        [ 0.0589,  0.7363,  0.1616,  ..., -0.7936,  0.1686,  0.8655],\n        [ 0.0942, -0.2178, -0.7711,  ..., -0.1211,  0.0076, -0.1230],\n        ...,\n        [-0.1728,  0.1262,  0.2502,  ..., -0.2342,  0.1369, -0.3680],\n        [ 1.4740, -1.2592, -1.5957,  ..., -0.0123, -0.0830, -0.5855],\n        [-0.2176, -0.0708,  0.0612,  ...,  0.2657,  0.3926,  0.0561]])"
     },
     "execution_count": 5,
     "metadata": {},
     "output_type": "execute_result"
    }
   ],
   "source": [
    "checkpoint.model_state_dict['sender.agent.fc1.weight']"
   ]
  },
  {
   "cell_type": "code",
   "execution_count": 6,
   "outputs": [],
   "source": [
    "hidden_size = 128\n",
    "dimensions = [4, 4, 4, 4, 4]\n",
    "game_size = 10\n",
    "context_unaware = False\n",
    "vocab_size_factor = 3\n",
    "max_mess_len = None\n",
    "sender_cell = 'gru'\n",
    "temperature = 2.0\n",
    "receiver_cell = 'gru'\n",
    "learning_rate = 0.001\n",
    "device = 'cuda'\n",
    "path = ''\n",
    "load_dataset = 'dim(5,4)_specific.ds'"
   ],
   "metadata": {
    "collapsed": false,
    "ExecuteTime": {
     "end_time": "2024-07-15T07:08:01.864721Z",
     "start_time": "2024-07-15T07:08:01.853724Z"
    }
   }
  },
  {
   "cell_type": "code",
   "execution_count": 7,
   "outputs": [],
   "source": [
    "def loss(_sender_input, _message, _receiver_input, receiver_output, labels, _aux_input):\n",
    "    \"\"\"\n",
    "    Loss needs to be defined for gumbel softmax relaxation.\n",
    "    For a discriminative game, accuracy is computed by comparing the index with highest score in Receiver\n",
    "    output (a distribution of unnormalized probabilities over target positions) and the corresponding \n",
    "    label read from input, indicating the ground-truth position of the target.\n",
    "    Adaptation to concept game with multiple targets after Mu & Goodman (2021) with BCEWithLogitsLoss\n",
    "        receiver_output: Tensor of shape [batch_size, n_objects]\n",
    "        labels: Tensor of shape [batch_size, n_objects]\n",
    "    \"\"\"\n",
    "    # after Mu & Goodman (2021):\n",
    "    loss_fn = nn.BCEWithLogitsLoss()\n",
    "    loss = loss_fn(receiver_output, labels)\n",
    "    receiver_pred = (receiver_output > 0).float()\n",
    "    per_game_acc = (receiver_pred == labels).float().mean(1).cpu().numpy()  # all labels have to be predicted correctly\n",
    "    acc = per_game_acc.mean()\n",
    "    return loss, {'acc': acc}"
   ],
   "metadata": {
    "collapsed": false,
    "ExecuteTime": {
     "end_time": "2024-07-15T07:08:02.523208Z",
     "start_time": "2024-07-15T07:08:02.518872Z"
    }
   }
  },
  {
   "cell_type": "code",
   "execution_count": 8,
   "outputs": [
    {
     "name": "stdout",
     "output_type": "stream",
     "text": [
      "data loaded from: data/dim(5,4)_specific.ds\n"
     ]
    }
   ],
   "source": [
    "data_set = torch.load(path + 'data/' + load_dataset)\n",
    "print('data loaded from: ' + 'data/' + load_dataset)"
   ],
   "metadata": {
    "collapsed": false,
    "ExecuteTime": {
     "end_time": "2024-07-15T07:08:11.155560Z",
     "start_time": "2024-07-15T07:08:03.171453Z"
    }
   }
  },
  {
   "cell_type": "code",
   "execution_count": 9,
   "outputs": [],
   "source": [
    "train, val, test = data_set\n",
    "train = torch.utils.data.DataLoader(train, batch_size = opts.batch_size, shuffle=False)\n",
    "val = torch.utils.data.DataLoader(val, batch_size = opts.batch_size, shuffle=False)\n",
    "test = torch.utils.data.DataLoader(test, batch_size=opts.batch_size, shuffle=False)"
   ],
   "metadata": {
    "collapsed": false,
    "ExecuteTime": {
     "end_time": "2024-07-15T07:08:11.158023Z",
     "start_time": "2024-07-15T07:08:11.155414Z"
    }
   }
  },
  {
   "cell_type": "code",
   "execution_count": 10,
   "outputs": [
    {
     "data": {
      "text/plain": "1600"
     },
     "execution_count": 10,
     "metadata": {},
     "output_type": "execute_result"
    }
   ],
   "source": [
    "len(test) # n batches"
   ],
   "metadata": {
    "collapsed": false,
    "ExecuteTime": {
     "end_time": "2024-07-15T07:08:11.160177Z",
     "start_time": "2024-07-15T07:08:11.157560Z"
    }
   }
  },
  {
   "cell_type": "code",
   "execution_count": 11,
   "outputs": [],
   "source": [
    "sender = Sender(hidden_size, sum(dimensions), game_size, context_unaware)\n",
    "receiver = Receiver(sum(dimensions), hidden_size)\n",
    "\n",
    "minimum_vocab_size = dimensions[0] + 1  # plus one for 'any'\n",
    "vocab_size = minimum_vocab_size * vocab_size_factor + 1  # multiply by factor plus add one for eos-symbol\n",
    "\n",
    "# allow user to specify a maximum message length\n",
    "if max_mess_len:\n",
    "    max_len = max_mess_len\n",
    "# default: number of attributes\n",
    "else:\n",
    "    max_len = len(dimensions)\n",
    "\n",
    "sender = core.RnnSenderGS(sender,\n",
    "                          vocab_size,\n",
    "                          int(hidden_size / 2),\n",
    "                          hidden_size,\n",
    "                          cell=sender_cell,\n",
    "                          max_len=max_len,\n",
    "                          temperature=temperature)\n",
    "\n",
    "receiver = core.RnnReceiverGS(receiver,\n",
    "                              vocab_size,\n",
    "                              int(hidden_size / 2),\n",
    "                              hidden_size,\n",
    "                              cell=receiver_cell)\n",
    "\n",
    "game = core.SenderReceiverRnnGS(sender, receiver, loss)\n",
    "\n",
    "optimizer = torch.optim.Adam([\n",
    "        {'params': game.sender.parameters(), 'lr': learning_rate},\n",
    "        {'params': game.receiver.parameters(), 'lr': learning_rate}\n",
    "    ])\n",
    "\n",
    "trainer = core.Trainer(game=game, optimizer=optimizer, train_data=train, validation_data=val)"
   ],
   "metadata": {
    "collapsed": false,
    "ExecuteTime": {
     "end_time": "2024-07-15T07:08:11.169837Z",
     "start_time": "2024-07-15T07:08:11.162660Z"
    }
   }
  },
  {
   "cell_type": "code",
   "execution_count": 12,
   "outputs": [],
   "source": [
    "checkpoint = torch.load(PATH, map_location=torch.device('cpu'))\n",
    "game.load_state_dict(checkpoint.model_state_dict)\n",
    "optimizer.load_state_dict(checkpoint.optimizer_state_dict)\n",
    "epoch = checkpoint.epoch\n",
    "\n",
    "mean_loss, interaction = trainer.eval(data=test)"
   ],
   "metadata": {
    "collapsed": false,
    "ExecuteTime": {
     "end_time": "2024-07-15T07:08:15.314376Z",
     "start_time": "2024-07-15T07:08:11.171875Z"
    }
   }
  },
  {
   "cell_type": "code",
   "execution_count": 13,
   "outputs": [
    {
     "data": {
      "text/plain": "0.17476728558540344"
     },
     "execution_count": 13,
     "metadata": {},
     "output_type": "execute_result"
    }
   ],
   "source": [
    "mean_loss"
   ],
   "metadata": {
    "collapsed": false,
    "ExecuteTime": {
     "end_time": "2024-07-15T07:08:15.317947Z",
     "start_time": "2024-07-15T07:08:15.314172Z"
    }
   }
  },
  {
   "cell_type": "code",
   "execution_count": 14,
   "outputs": [
    {
     "data": {
      "text/plain": "tensor(0.9474)"
     },
     "execution_count": 14,
     "metadata": {},
     "output_type": "execute_result"
    }
   ],
   "source": [
    "interaction.aux['acc'].mean()"
   ],
   "metadata": {
    "collapsed": false,
    "ExecuteTime": {
     "end_time": "2024-07-15T07:08:15.322372Z",
     "start_time": "2024-07-15T07:08:15.316148Z"
    }
   }
  },
  {
   "cell_type": "code",
   "execution_count": 17,
   "outputs": [],
   "source": [],
   "metadata": {
    "collapsed": false,
    "ExecuteTime": {
     "end_time": "2024-07-15T07:09:29.379232Z",
     "start_time": "2024-07-15T07:09:29.355228Z"
    }
   }
  }
 ],
 "metadata": {
  "kernelspec": {
   "display_name": "egg",
   "language": "python",
   "name": "python3"
  },
  "language_info": {
   "codemirror_mode": {
    "name": "ipython",
    "version": 3
   },
   "file_extension": ".py",
   "mimetype": "text/x-python",
   "name": "python",
   "nbconvert_exporter": "python",
   "pygments_lexer": "ipython3",
   "version": "3.9.15"
  },
  "orig_nbformat": 4
 },
 "nbformat": 4,
 "nbformat_minor": 2
}
