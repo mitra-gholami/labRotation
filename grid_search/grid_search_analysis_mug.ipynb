{
 "cells": [
  {
   "cell_type": "code",
   "execution_count": 1,
   "metadata": {
    "ExecuteTime": {
     "end_time": "2024-01-16T13:22:10.473473Z",
     "start_time": "2024-01-16T13:22:10.243652Z"
    }
   },
   "outputs": [],
   "source": [
    "import pandas as pd\n",
    "from grid_search_utils import get_grid_search_results\n",
    "import itertools"
   ]
  },
  {
   "cell_type": "code",
   "execution_count": 2,
   "metadata": {
    "ExecuteTime": {
     "end_time": "2024-01-16T13:22:11.268151Z",
     "start_time": "2024-01-16T13:22:11.224632Z"
    }
   },
   "outputs": [
    {
     "name": "stdout",
     "output_type": "stream",
     "text": [
      "Saved data as results_mu_and_goodman.csv\n"
     ]
    }
   ],
   "source": [
    "# give directory name\n",
    "directory = \"mu_and_goodman\"\n",
    "get_grid_search_results(directory, len_lines=128)"
   ]
  },
  {
   "cell_type": "code",
   "execution_count": 3,
   "metadata": {
    "ExecuteTime": {
     "end_time": "2024-01-16T13:22:31.973757Z",
     "start_time": "2024-01-16T13:22:31.968647Z"
    }
   },
   "outputs": [],
   "source": [
    "data = pd.read_csv(\"results_\" + directory + \".csv\")"
   ]
  },
  {
   "attachments": {},
   "cell_type": "markdown",
   "metadata": {},
   "source": [
    "## New grid search results"
   ]
  },
  {
   "cell_type": "code",
   "execution_count": 5,
   "metadata": {
    "ExecuteTime": {
     "end_time": "2024-01-16T13:22:42.358003Z",
     "start_time": "2024-01-16T13:22:42.350606Z"
    }
   },
   "outputs": [
    {
     "name": "stdout",
     "output_type": "stream",
     "text": [
      "attributes [4]\n",
      "values [4]\n",
      "game_size [10]\n",
      "vocab_size_factor [3.]\n",
      "n_epochs [60.]\n",
      "batch_size [ 32  64 128]\n",
      "learning_rate [0.0005 0.001 ]\n",
      "speaker_hidden_size [128 256]\n",
      "temp_update [0.97 0.99]\n",
      "temperature [1.  1.5 2. ]\n"
     ]
    }
   ],
   "source": [
    "# parameters that were tested\n",
    "for col in data.columns[:-4]:\n",
    "    print(col, data[col].unique())    "
   ]
  },
  {
   "cell_type": "code",
   "execution_count": 7,
   "metadata": {
    "ExecuteTime": {
     "end_time": "2024-01-16T13:22:51.432472Z",
     "start_time": "2024-01-16T13:22:51.427439Z"
    }
   },
   "outputs": [
    {
     "name": "stdout",
     "output_type": "stream",
     "text": [
      "dataset: 4 4\n",
      "attributes               4.000000\n",
      "values                   4.000000\n",
      "game_size               10.000000\n",
      "vocab_size_factor        3.000000\n",
      "n_epochs                60.000000\n",
      "batch_size              32.000000\n",
      "learning_rate            0.001000\n",
      "speaker_hidden_size    128.000000\n",
      "temp_update              0.990000\n",
      "temperature              2.000000\n",
      "train_loss               0.018490\n",
      "train_accuracy           0.997483\n",
      "test_loss                0.057171\n",
      "test_accuracy            0.982031\n",
      "Name: 17, dtype: float64\n"
     ]
    }
   ],
   "source": [
    "attributes = [4]\n",
    "values = [4]\n",
    "datasets = list(itertools.product(attributes, values))[:3]\n",
    "index = data.index\n",
    "for (attributes, values) in datasets:\n",
    "    print(\"dataset:\", attributes, values)\n",
    "    per_dataset = data[(data[\"attributes\"] == attributes) & (data[\"values\"] == values)]\n",
    "    max_test_acc = per_dataset['test_accuracy'].idxmax()\n",
    "    print(per_dataset.loc[index[max_test_acc]])"
   ]
  },
  {
   "attachments": {},
   "cell_type": "markdown",
   "metadata": {},
   "source": [
    "### Batch size\n",
    "Highest mean test accuracies with batch size 64, highest maximum test accuracies with batch size 32."
   ]
  },
  {
   "cell_type": "code",
   "execution_count": 8,
   "metadata": {
    "ExecuteTime": {
     "end_time": "2024-01-16T13:23:35.783039Z",
     "start_time": "2024-01-16T13:23:35.756161Z"
    }
   },
   "outputs": [
    {
     "name": "stderr",
     "output_type": "stream",
     "text": [
      "/var/folders/k6/03rlh8jd6nqbws0_xg9jh20w0000gq/T/ipykernel_46962/2988926984.py:1: FutureWarning: Indexing with multiple keys (implicitly converted to a tuple of keys) will be deprecated, use a list instead.\n",
      "  bs_sumstat = data.groupby(['attributes', 'values', 'batch_size'])['train_accuracy', 'test_accuracy'].describe()\n"
     ]
    },
    {
     "data": {
      "text/plain": "                             train_accuracy                     test_accuracy  \\\n                                        max      mean       std           max   \nattributes values batch_size                                                    \n4          4      32               0.997483  0.965165  0.018287      0.982031   \n                  64               0.986642  0.944959  0.022789      0.964258   \n                  128              0.980141  0.935738  0.025995      0.969531   \n\n                                                  \n                                  mean       std  \nattributes values batch_size                      \n4          4      32          0.948922  0.019702  \n                  64          0.929706  0.019008  \n                  128         0.923711  0.025063  ",
      "text/html": "<div>\n<style scoped>\n    .dataframe tbody tr th:only-of-type {\n        vertical-align: middle;\n    }\n\n    .dataframe tbody tr th {\n        vertical-align: top;\n    }\n\n    .dataframe thead tr th {\n        text-align: left;\n    }\n\n    .dataframe thead tr:last-of-type th {\n        text-align: right;\n    }\n</style>\n<table border=\"1\" class=\"dataframe\">\n  <thead>\n    <tr>\n      <th></th>\n      <th></th>\n      <th></th>\n      <th colspan=\"3\" halign=\"left\">train_accuracy</th>\n      <th colspan=\"3\" halign=\"left\">test_accuracy</th>\n    </tr>\n    <tr>\n      <th></th>\n      <th></th>\n      <th></th>\n      <th>max</th>\n      <th>mean</th>\n      <th>std</th>\n      <th>max</th>\n      <th>mean</th>\n      <th>std</th>\n    </tr>\n    <tr>\n      <th>attributes</th>\n      <th>values</th>\n      <th>batch_size</th>\n      <th></th>\n      <th></th>\n      <th></th>\n      <th></th>\n      <th></th>\n      <th></th>\n    </tr>\n  </thead>\n  <tbody>\n    <tr>\n      <th rowspan=\"3\" valign=\"top\">4</th>\n      <th rowspan=\"3\" valign=\"top\">4</th>\n      <th>32</th>\n      <td>0.997483</td>\n      <td>0.965165</td>\n      <td>0.018287</td>\n      <td>0.982031</td>\n      <td>0.948922</td>\n      <td>0.019702</td>\n    </tr>\n    <tr>\n      <th>64</th>\n      <td>0.986642</td>\n      <td>0.944959</td>\n      <td>0.022789</td>\n      <td>0.964258</td>\n      <td>0.929706</td>\n      <td>0.019008</td>\n    </tr>\n    <tr>\n      <th>128</th>\n      <td>0.980141</td>\n      <td>0.935738</td>\n      <td>0.025995</td>\n      <td>0.969531</td>\n      <td>0.923711</td>\n      <td>0.025063</td>\n    </tr>\n  </tbody>\n</table>\n</div>"
     },
     "execution_count": 8,
     "metadata": {},
     "output_type": "execute_result"
    }
   ],
   "source": [
    "bs_sumstat = data.groupby(['attributes', 'values', 'batch_size'])['train_accuracy', 'test_accuracy'].describe()\n",
    "bs_train = bs_sumstat.loc[:,[('train_accuracy', 'max'), ('train_accuracy', 'mean'), ('train_accuracy', 'std')]]\n",
    "bs_test = bs_sumstat.loc[:,[('test_accuracy', 'max'), ('test_accuracy', 'mean'), ('test_accuracy', 'std')]]\n",
    "bs_merged = bs_train.merge(bs_test, left_index=True, right_index=True)\n",
    "bs_merged"
   ]
  },
  {
   "attachments": {},
   "cell_type": "markdown",
   "metadata": {},
   "source": [
    "### Learning rate\n",
    "Higher maximum accuracies with learning rate 0.001, but higher mean accuracies with learning rate 0.0005."
   ]
  },
  {
   "cell_type": "code",
   "execution_count": 9,
   "metadata": {
    "ExecuteTime": {
     "end_time": "2024-01-16T13:24:59.872843Z",
     "start_time": "2024-01-16T13:24:59.850763Z"
    }
   },
   "outputs": [
    {
     "name": "stderr",
     "output_type": "stream",
     "text": [
      "/var/folders/k6/03rlh8jd6nqbws0_xg9jh20w0000gq/T/ipykernel_46962/3658511370.py:1: FutureWarning: Indexing with multiple keys (implicitly converted to a tuple of keys) will be deprecated, use a list instead.\n",
      "  lr_sumstat = data.groupby(['attributes', 'values', 'learning_rate'])['train_accuracy', 'test_accuracy'].describe()\n"
     ]
    },
    {
     "data": {
      "text/plain": "                                train_accuracy                      \\\n                                           max      mean       std   \nattributes values learning_rate                                      \n4          4      0.0005              0.982806  0.937549  0.025462   \n                  0.0010              0.997483  0.959692  0.020380   \n\n                                test_accuracy                      \n                                          max      mean       std  \nattributes values learning_rate                                    \n4          4      0.0005             0.966320  0.923701  0.022431  \n                  0.0010             0.982031  0.944525  0.020422  ",
      "text/html": "<div>\n<style scoped>\n    .dataframe tbody tr th:only-of-type {\n        vertical-align: middle;\n    }\n\n    .dataframe tbody tr th {\n        vertical-align: top;\n    }\n\n    .dataframe thead tr th {\n        text-align: left;\n    }\n\n    .dataframe thead tr:last-of-type th {\n        text-align: right;\n    }\n</style>\n<table border=\"1\" class=\"dataframe\">\n  <thead>\n    <tr>\n      <th></th>\n      <th></th>\n      <th></th>\n      <th colspan=\"3\" halign=\"left\">train_accuracy</th>\n      <th colspan=\"3\" halign=\"left\">test_accuracy</th>\n    </tr>\n    <tr>\n      <th></th>\n      <th></th>\n      <th></th>\n      <th>max</th>\n      <th>mean</th>\n      <th>std</th>\n      <th>max</th>\n      <th>mean</th>\n      <th>std</th>\n    </tr>\n    <tr>\n      <th>attributes</th>\n      <th>values</th>\n      <th>learning_rate</th>\n      <th></th>\n      <th></th>\n      <th></th>\n      <th></th>\n      <th></th>\n      <th></th>\n    </tr>\n  </thead>\n  <tbody>\n    <tr>\n      <th rowspan=\"2\" valign=\"top\">4</th>\n      <th rowspan=\"2\" valign=\"top\">4</th>\n      <th>0.0005</th>\n      <td>0.982806</td>\n      <td>0.937549</td>\n      <td>0.025462</td>\n      <td>0.966320</td>\n      <td>0.923701</td>\n      <td>0.022431</td>\n    </tr>\n    <tr>\n      <th>0.0010</th>\n      <td>0.997483</td>\n      <td>0.959692</td>\n      <td>0.020380</td>\n      <td>0.982031</td>\n      <td>0.944525</td>\n      <td>0.020422</td>\n    </tr>\n  </tbody>\n</table>\n</div>"
     },
     "execution_count": 9,
     "metadata": {},
     "output_type": "execute_result"
    }
   ],
   "source": [
    "lr_sumstat = data.groupby(['attributes', 'values', 'learning_rate'])['train_accuracy', 'test_accuracy'].describe()\n",
    "lr_train = lr_sumstat.loc[:,[('train_accuracy', 'max'), ('train_accuracy', 'mean'), ('train_accuracy', 'std')]]\n",
    "lr_test = lr_sumstat.loc[:,[('test_accuracy', 'max'), ('test_accuracy', 'mean'), ('test_accuracy', 'std')]]\n",
    "lr_merged = lr_train.merge(lr_test, left_index=True, right_index=True)\n",
    "lr_merged"
   ]
  },
  {
   "attachments": {},
   "cell_type": "markdown",
   "metadata": {},
   "source": [
    "### Hidden size\n",
    "Highest mean accuracies with hidden size 128."
   ]
  },
  {
   "cell_type": "code",
   "execution_count": 12,
   "metadata": {
    "ExecuteTime": {
     "end_time": "2024-01-16T13:25:36.283108Z",
     "start_time": "2024-01-16T13:25:36.261317Z"
    }
   },
   "outputs": [
    {
     "name": "stderr",
     "output_type": "stream",
     "text": [
      "/var/folders/k6/03rlh8jd6nqbws0_xg9jh20w0000gq/T/ipykernel_46962/3128979180.py:1: FutureWarning: Indexing with multiple keys (implicitly converted to a tuple of keys) will be deprecated, use a list instead.\n",
      "  hs_sumstat = data.groupby(['attributes', 'values', 'speaker_hidden_size'])['train_accuracy', 'test_accuracy'].describe()\n"
     ]
    },
    {
     "data": {
      "text/plain": "                                      train_accuracy                      \\\n                                                 max      mean       std   \nattributes values speaker_hidden_size                                      \n4          4      128                       0.997483  0.949833  0.026148   \n                  256                       0.988651  0.947408  0.025081   \n\n                                      test_accuracy                      \n                                                max      mean       std  \nattributes values speaker_hidden_size                                    \n4          4      128                      0.982031  0.934341  0.024854  \n                  256                      0.973231  0.933885  0.022920  ",
      "text/html": "<div>\n<style scoped>\n    .dataframe tbody tr th:only-of-type {\n        vertical-align: middle;\n    }\n\n    .dataframe tbody tr th {\n        vertical-align: top;\n    }\n\n    .dataframe thead tr th {\n        text-align: left;\n    }\n\n    .dataframe thead tr:last-of-type th {\n        text-align: right;\n    }\n</style>\n<table border=\"1\" class=\"dataframe\">\n  <thead>\n    <tr>\n      <th></th>\n      <th></th>\n      <th></th>\n      <th colspan=\"3\" halign=\"left\">train_accuracy</th>\n      <th colspan=\"3\" halign=\"left\">test_accuracy</th>\n    </tr>\n    <tr>\n      <th></th>\n      <th></th>\n      <th></th>\n      <th>max</th>\n      <th>mean</th>\n      <th>std</th>\n      <th>max</th>\n      <th>mean</th>\n      <th>std</th>\n    </tr>\n    <tr>\n      <th>attributes</th>\n      <th>values</th>\n      <th>speaker_hidden_size</th>\n      <th></th>\n      <th></th>\n      <th></th>\n      <th></th>\n      <th></th>\n      <th></th>\n    </tr>\n  </thead>\n  <tbody>\n    <tr>\n      <th rowspan=\"2\" valign=\"top\">4</th>\n      <th rowspan=\"2\" valign=\"top\">4</th>\n      <th>128</th>\n      <td>0.997483</td>\n      <td>0.949833</td>\n      <td>0.026148</td>\n      <td>0.982031</td>\n      <td>0.934341</td>\n      <td>0.024854</td>\n    </tr>\n    <tr>\n      <th>256</th>\n      <td>0.988651</td>\n      <td>0.947408</td>\n      <td>0.025081</td>\n      <td>0.973231</td>\n      <td>0.933885</td>\n      <td>0.022920</td>\n    </tr>\n  </tbody>\n</table>\n</div>"
     },
     "execution_count": 12,
     "metadata": {},
     "output_type": "execute_result"
    }
   ],
   "source": [
    "hs_sumstat = data.groupby(['attributes', 'values', 'speaker_hidden_size'])['train_accuracy', 'test_accuracy'].describe()\n",
    "hs_train = hs_sumstat.loc[:,[('train_accuracy', 'max'), ('train_accuracy', 'mean'), ('train_accuracy', 'std')]]\n",
    "hs_test = hs_sumstat.loc[:,[('test_accuracy', 'max'), ('test_accuracy', 'mean'), ('test_accuracy', 'std')]]\n",
    "hs_merged = hs_train.merge(hs_test, left_index=True, right_index=True)\n",
    "hs_merged"
   ]
  },
  {
   "attachments": {},
   "cell_type": "markdown",
   "metadata": {},
   "source": [
    "### Temperature\n",
    "Highest mean accuracies with temperature 2."
   ]
  },
  {
   "cell_type": "code",
   "execution_count": 13,
   "metadata": {
    "ExecuteTime": {
     "end_time": "2024-01-16T13:26:05.972866Z",
     "start_time": "2024-01-16T13:26:05.953819Z"
    }
   },
   "outputs": [
    {
     "name": "stderr",
     "output_type": "stream",
     "text": [
      "/var/folders/k6/03rlh8jd6nqbws0_xg9jh20w0000gq/T/ipykernel_46962/3657054828.py:1: FutureWarning: Indexing with multiple keys (implicitly converted to a tuple of keys) will be deprecated, use a list instead.\n",
      "  t_sumstat = data.groupby(['attributes', 'values', 'temperature'])['train_accuracy', 'test_accuracy'].describe()\n"
     ]
    },
    {
     "data": {
      "text/plain": "                              train_accuracy                      \\\n                                         max      mean       std   \nattributes values temperature                                      \n4          4      1.0               0.979183  0.941243  0.025792   \n                  1.5               0.988651  0.950199  0.023941   \n                  2.0               0.997483  0.954420  0.025874   \n\n                              test_accuracy                      \n                                        max      mean       std  \nattributes values temperature                                    \n4          4      1.0              0.973231  0.932313  0.025566  \n                  1.5              0.970312  0.931273  0.023766  \n                  2.0              0.982031  0.938752  0.022066  ",
      "text/html": "<div>\n<style scoped>\n    .dataframe tbody tr th:only-of-type {\n        vertical-align: middle;\n    }\n\n    .dataframe tbody tr th {\n        vertical-align: top;\n    }\n\n    .dataframe thead tr th {\n        text-align: left;\n    }\n\n    .dataframe thead tr:last-of-type th {\n        text-align: right;\n    }\n</style>\n<table border=\"1\" class=\"dataframe\">\n  <thead>\n    <tr>\n      <th></th>\n      <th></th>\n      <th></th>\n      <th colspan=\"3\" halign=\"left\">train_accuracy</th>\n      <th colspan=\"3\" halign=\"left\">test_accuracy</th>\n    </tr>\n    <tr>\n      <th></th>\n      <th></th>\n      <th></th>\n      <th>max</th>\n      <th>mean</th>\n      <th>std</th>\n      <th>max</th>\n      <th>mean</th>\n      <th>std</th>\n    </tr>\n    <tr>\n      <th>attributes</th>\n      <th>values</th>\n      <th>temperature</th>\n      <th></th>\n      <th></th>\n      <th></th>\n      <th></th>\n      <th></th>\n      <th></th>\n    </tr>\n  </thead>\n  <tbody>\n    <tr>\n      <th rowspan=\"3\" valign=\"top\">4</th>\n      <th rowspan=\"3\" valign=\"top\">4</th>\n      <th>1.0</th>\n      <td>0.979183</td>\n      <td>0.941243</td>\n      <td>0.025792</td>\n      <td>0.973231</td>\n      <td>0.932313</td>\n      <td>0.025566</td>\n    </tr>\n    <tr>\n      <th>1.5</th>\n      <td>0.988651</td>\n      <td>0.950199</td>\n      <td>0.023941</td>\n      <td>0.970312</td>\n      <td>0.931273</td>\n      <td>0.023766</td>\n    </tr>\n    <tr>\n      <th>2.0</th>\n      <td>0.997483</td>\n      <td>0.954420</td>\n      <td>0.025874</td>\n      <td>0.982031</td>\n      <td>0.938752</td>\n      <td>0.022066</td>\n    </tr>\n  </tbody>\n</table>\n</div>"
     },
     "execution_count": 13,
     "metadata": {},
     "output_type": "execute_result"
    }
   ],
   "source": [
    "t_sumstat = data.groupby(['attributes', 'values', 'temperature'])['train_accuracy', 'test_accuracy'].describe()\n",
    "t_train = t_sumstat.loc[:,[('train_accuracy', 'max'), ('train_accuracy', 'mean'), ('train_accuracy', 'std')]]\n",
    "t_test = t_sumstat.loc[:,[('test_accuracy', 'max'), ('test_accuracy', 'mean'), ('test_accuracy', 'std')]]\n",
    "t_merged = t_train.merge(t_test, left_index=True, right_index=True)\n",
    "t_merged"
   ]
  },
  {
   "attachments": {},
   "cell_type": "markdown",
   "metadata": {},
   "source": [
    "### Temperature update\n",
    "Highest mean accuracies for temperature update 0.99."
   ]
  },
  {
   "cell_type": "code",
   "execution_count": 15,
   "metadata": {
    "ExecuteTime": {
     "end_time": "2024-01-16T13:26:32.303175Z",
     "start_time": "2024-01-16T13:26:32.286690Z"
    }
   },
   "outputs": [
    {
     "name": "stderr",
     "output_type": "stream",
     "text": [
      "/var/folders/k6/03rlh8jd6nqbws0_xg9jh20w0000gq/T/ipykernel_46962/2568406348.py:1: FutureWarning: Indexing with multiple keys (implicitly converted to a tuple of keys) will be deprecated, use a list instead.\n",
      "  tu_sumstat = data.groupby(['attributes', 'values', 'temp_update'])['train_accuracy', 'test_accuracy'].describe()\n"
     ]
    },
    {
     "data": {
      "text/plain": "                              train_accuracy                      \\\n                                         max      mean       std   \nattributes values temp_update                                      \n4          4      0.97              0.978149  0.944268  0.018938   \n                  0.99              0.997483  0.952973  0.030301   \n\n                              test_accuracy                      \n                                        max      mean       std  \nattributes values temp_update                                    \n4          4      0.97             0.964844  0.932528  0.017839  \n                  0.99             0.982031  0.935697  0.028632  ",
      "text/html": "<div>\n<style scoped>\n    .dataframe tbody tr th:only-of-type {\n        vertical-align: middle;\n    }\n\n    .dataframe tbody tr th {\n        vertical-align: top;\n    }\n\n    .dataframe thead tr th {\n        text-align: left;\n    }\n\n    .dataframe thead tr:last-of-type th {\n        text-align: right;\n    }\n</style>\n<table border=\"1\" class=\"dataframe\">\n  <thead>\n    <tr>\n      <th></th>\n      <th></th>\n      <th></th>\n      <th colspan=\"3\" halign=\"left\">train_accuracy</th>\n      <th colspan=\"3\" halign=\"left\">test_accuracy</th>\n    </tr>\n    <tr>\n      <th></th>\n      <th></th>\n      <th></th>\n      <th>max</th>\n      <th>mean</th>\n      <th>std</th>\n      <th>max</th>\n      <th>mean</th>\n      <th>std</th>\n    </tr>\n    <tr>\n      <th>attributes</th>\n      <th>values</th>\n      <th>temp_update</th>\n      <th></th>\n      <th></th>\n      <th></th>\n      <th></th>\n      <th></th>\n      <th></th>\n    </tr>\n  </thead>\n  <tbody>\n    <tr>\n      <th rowspan=\"2\" valign=\"top\">4</th>\n      <th rowspan=\"2\" valign=\"top\">4</th>\n      <th>0.97</th>\n      <td>0.978149</td>\n      <td>0.944268</td>\n      <td>0.018938</td>\n      <td>0.964844</td>\n      <td>0.932528</td>\n      <td>0.017839</td>\n    </tr>\n    <tr>\n      <th>0.99</th>\n      <td>0.997483</td>\n      <td>0.952973</td>\n      <td>0.030301</td>\n      <td>0.982031</td>\n      <td>0.935697</td>\n      <td>0.028632</td>\n    </tr>\n  </tbody>\n</table>\n</div>"
     },
     "execution_count": 15,
     "metadata": {},
     "output_type": "execute_result"
    }
   ],
   "source": [
    "tu_sumstat = data.groupby(['attributes', 'values', 'temp_update'])['train_accuracy', 'test_accuracy'].describe()\n",
    "tu_train = tu_sumstat.loc[:,[('train_accuracy', 'max'), ('train_accuracy', 'mean'), ('train_accuracy', 'std')]]\n",
    "tu_test = tu_sumstat.loc[:,[('test_accuracy', 'max'), ('test_accuracy', 'mean'), ('test_accuracy', 'std')]]\n",
    "tu_merged = tu_train.merge(tu_test, left_index=True, right_index=True)\n",
    "tu_merged"
   ]
  }
 ],
 "metadata": {
  "kernelspec": {
   "display_name": "egg",
   "language": "python",
   "name": "python3"
  },
  "language_info": {
   "codemirror_mode": {
    "name": "ipython",
    "version": 3
   },
   "file_extension": ".py",
   "mimetype": "text/x-python",
   "name": "python",
   "nbconvert_exporter": "python",
   "pygments_lexer": "ipython3",
   "version": "3.9.15"
  },
  "orig_nbformat": 4
 },
 "nbformat": 4,
 "nbformat_minor": 2
}
